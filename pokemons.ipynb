{
  "nbformat": 4,
  "nbformat_minor": 0,
  "metadata": {
    "colab": {
      "name": "Untitled2.ipynb",
      "provenance": [],
      "collapsed_sections": [],
      "authorship_tag": "ABX9TyOPHfanzs9IiECsdoE8Pu8o",
      "include_colab_link": true
    },
    "kernelspec": {
      "name": "python3",
      "display_name": "Python 3"
    }
  },
  "cells": [
    {
      "cell_type": "markdown",
      "metadata": {
        "id": "view-in-github",
        "colab_type": "text"
      },
      "source": [
        "<a href=\"https://colab.research.google.com/github/Nataliaa1994/data-science/blob/master/pokemons.ipynb\" target=\"_parent\"><img src=\"https://colab.research.google.com/assets/colab-badge.svg\" alt=\"Open In Colab\"/></a>"
      ]
    },
    {
      "cell_type": "code",
      "metadata": {
        "id": "oKpjtfJrD5c5",
        "colab_type": "code",
        "colab": {
          "base_uri": "https://localhost:8080/",
          "height": 54
        },
        "outputId": "15974339-ef7e-4900-edc4-6b3ec53b8210"
      },
      "source": [
        "import numpy as np\n",
        "import pandas as pd\n",
        "import matplotlib.pyplot as plt\n",
        "import seaborn as sns"
      ],
      "execution_count": 1,
      "outputs": [
        {
          "output_type": "stream",
          "text": [
            "/usr/local/lib/python3.6/dist-packages/statsmodels/tools/_testing.py:19: FutureWarning: pandas.util.testing is deprecated. Use the functions in the public API at pandas.testing instead.\n",
            "  import pandas.util.testing as tm\n"
          ],
          "name": "stderr"
        }
      ]
    },
    {
      "cell_type": "code",
      "metadata": {
        "id": "H3TU6k9fEAcO",
        "colab_type": "code",
        "colab": {}
      },
      "source": [
        "from google.colab import files"
      ],
      "execution_count": 2,
      "outputs": []
    },
    {
      "cell_type": "code",
      "metadata": {
        "id": "74KfVyIoEByB",
        "colab_type": "code",
        "colab": {
          "resources": {
            "http://localhost:8080/nbextensions/google.colab/files.js": {
              "data": "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",
              "ok": true,
              "headers": [
                [
                  "content-type",
                  "application/javascript"
                ]
              ],
              "status": 200,
              "status_text": "OK"
            }
          },
          "base_uri": "https://localhost:8080/",
          "height": 73
        },
        "outputId": "0ac91685-1a5b-483b-e893-3bf93a1f74e0"
      },
      "source": [
        "uploaded=files.upload()"
      ],
      "execution_count": 3,
      "outputs": [
        {
          "output_type": "display_data",
          "data": {
            "text/html": [
              "\n",
              "     <input type=\"file\" id=\"files-82c2ece1-ebe8-4fa8-b7e3-f26fbf3924ef\" name=\"files[]\" multiple disabled\n",
              "        style=\"border:none\" />\n",
              "     <output id=\"result-82c2ece1-ebe8-4fa8-b7e3-f26fbf3924ef\">\n",
              "      Upload widget is only available when the cell has been executed in the\n",
              "      current browser session. Please rerun this cell to enable.\n",
              "      </output>\n",
              "      <script src=\"/nbextensions/google.colab/files.js\"></script> "
            ],
            "text/plain": [
              "<IPython.core.display.HTML object>"
            ]
          },
          "metadata": {
            "tags": []
          }
        },
        {
          "output_type": "stream",
          "text": [
            "Saving pokedex_(Update.04.20).csv to pokedex_(Update.04.20).csv\n"
          ],
          "name": "stdout"
        }
      ]
    },
    {
      "cell_type": "code",
      "metadata": {
        "id": "FlBIh-_7EJk1",
        "colab_type": "code",
        "colab": {}
      },
      "source": [
        "import io\n",
        "raw_data = pd.read_csv(io.StringIO(uploaded['pokedex_(Update.04.20).csv'].decode('utf-8')))"
      ],
      "execution_count": 5,
      "outputs": []
    },
    {
      "cell_type": "code",
      "metadata": {
        "id": "1H3BrVllEacV",
        "colab_type": "code",
        "colab": {
          "base_uri": "https://localhost:8080/",
          "height": 330
        },
        "outputId": "c8692453-b613-403e-d82b-00d1b7549ce8"
      },
      "source": [
        "raw_data.head()"
      ],
      "execution_count": null,
      "outputs": [
        {
          "output_type": "execute_result",
          "data": {
            "text/html": [
              "<div>\n",
              "<style scoped>\n",
              "    .dataframe tbody tr th:only-of-type {\n",
              "        vertical-align: middle;\n",
              "    }\n",
              "\n",
              "    .dataframe tbody tr th {\n",
              "        vertical-align: top;\n",
              "    }\n",
              "\n",
              "    .dataframe thead th {\n",
              "        text-align: right;\n",
              "    }\n",
              "</style>\n",
              "<table border=\"1\" class=\"dataframe\">\n",
              "  <thead>\n",
              "    <tr style=\"text-align: right;\">\n",
              "      <th></th>\n",
              "      <th>Unnamed: 0</th>\n",
              "      <th>pokedex_number</th>\n",
              "      <th>name</th>\n",
              "      <th>german_name</th>\n",
              "      <th>japanese_name</th>\n",
              "      <th>generation</th>\n",
              "      <th>is_sub_legendary</th>\n",
              "      <th>is_legendary</th>\n",
              "      <th>is_mythical</th>\n",
              "      <th>species</th>\n",
              "      <th>type_number</th>\n",
              "      <th>type_1</th>\n",
              "      <th>type_2</th>\n",
              "      <th>height_m</th>\n",
              "      <th>weight_kg</th>\n",
              "      <th>abilities_number</th>\n",
              "      <th>ability_1</th>\n",
              "      <th>ability_2</th>\n",
              "      <th>ability_hidden</th>\n",
              "      <th>total_points</th>\n",
              "      <th>hp</th>\n",
              "      <th>attack</th>\n",
              "      <th>defense</th>\n",
              "      <th>sp_attack</th>\n",
              "      <th>sp_defense</th>\n",
              "      <th>speed</th>\n",
              "      <th>catch_rate</th>\n",
              "      <th>base_friendship</th>\n",
              "      <th>base_experience</th>\n",
              "      <th>growth_rate</th>\n",
              "      <th>egg_type_number</th>\n",
              "      <th>egg_type_1</th>\n",
              "      <th>egg_type_2</th>\n",
              "      <th>percentage_male</th>\n",
              "      <th>egg_cycles</th>\n",
              "      <th>against_normal</th>\n",
              "      <th>against_fire</th>\n",
              "      <th>against_water</th>\n",
              "      <th>against_electric</th>\n",
              "      <th>against_grass</th>\n",
              "      <th>against_ice</th>\n",
              "      <th>against_fight</th>\n",
              "      <th>against_poison</th>\n",
              "      <th>against_ground</th>\n",
              "      <th>against_flying</th>\n",
              "      <th>against_psychic</th>\n",
              "      <th>against_bug</th>\n",
              "      <th>against_rock</th>\n",
              "      <th>against_ghost</th>\n",
              "      <th>against_dragon</th>\n",
              "      <th>against_dark</th>\n",
              "      <th>against_steel</th>\n",
              "      <th>against_fairy</th>\n",
              "    </tr>\n",
              "  </thead>\n",
              "  <tbody>\n",
              "    <tr>\n",
              "      <th>0</th>\n",
              "      <td>0</td>\n",
              "      <td>1</td>\n",
              "      <td>Bulbasaur</td>\n",
              "      <td>Bisasam</td>\n",
              "      <td>フシギダネ (Fushigidane)</td>\n",
              "      <td>1</td>\n",
              "      <td>0</td>\n",
              "      <td>0</td>\n",
              "      <td>0</td>\n",
              "      <td>Seed Pokémon</td>\n",
              "      <td>2</td>\n",
              "      <td>Grass</td>\n",
              "      <td>Poison</td>\n",
              "      <td>0.7</td>\n",
              "      <td>6.9</td>\n",
              "      <td>2</td>\n",
              "      <td>Overgrow</td>\n",
              "      <td>NaN</td>\n",
              "      <td>Chlorophyll</td>\n",
              "      <td>318.0</td>\n",
              "      <td>45.0</td>\n",
              "      <td>49.0</td>\n",
              "      <td>49.0</td>\n",
              "      <td>65.0</td>\n",
              "      <td>65.0</td>\n",
              "      <td>45.0</td>\n",
              "      <td>45.0</td>\n",
              "      <td>70.0</td>\n",
              "      <td>64.0</td>\n",
              "      <td>Medium Slow</td>\n",
              "      <td>2</td>\n",
              "      <td>Grass</td>\n",
              "      <td>Monster</td>\n",
              "      <td>87.5</td>\n",
              "      <td>20.0</td>\n",
              "      <td>1.0</td>\n",
              "      <td>2.0</td>\n",
              "      <td>0.5</td>\n",
              "      <td>0.5</td>\n",
              "      <td>0.25</td>\n",
              "      <td>2.0</td>\n",
              "      <td>0.5</td>\n",
              "      <td>1.0</td>\n",
              "      <td>1.0</td>\n",
              "      <td>2.0</td>\n",
              "      <td>2.0</td>\n",
              "      <td>1.0</td>\n",
              "      <td>1.0</td>\n",
              "      <td>1.0</td>\n",
              "      <td>1.0</td>\n",
              "      <td>1.0</td>\n",
              "      <td>1.0</td>\n",
              "      <td>0.5</td>\n",
              "    </tr>\n",
              "    <tr>\n",
              "      <th>1</th>\n",
              "      <td>1</td>\n",
              "      <td>2</td>\n",
              "      <td>Ivysaur</td>\n",
              "      <td>Bisaknosp</td>\n",
              "      <td>フシギソウ (Fushigisou)</td>\n",
              "      <td>1</td>\n",
              "      <td>0</td>\n",
              "      <td>0</td>\n",
              "      <td>0</td>\n",
              "      <td>Seed Pokémon</td>\n",
              "      <td>2</td>\n",
              "      <td>Grass</td>\n",
              "      <td>Poison</td>\n",
              "      <td>1.0</td>\n",
              "      <td>13.0</td>\n",
              "      <td>2</td>\n",
              "      <td>Overgrow</td>\n",
              "      <td>NaN</td>\n",
              "      <td>Chlorophyll</td>\n",
              "      <td>405.0</td>\n",
              "      <td>60.0</td>\n",
              "      <td>62.0</td>\n",
              "      <td>63.0</td>\n",
              "      <td>80.0</td>\n",
              "      <td>80.0</td>\n",
              "      <td>60.0</td>\n",
              "      <td>45.0</td>\n",
              "      <td>70.0</td>\n",
              "      <td>142.0</td>\n",
              "      <td>Medium Slow</td>\n",
              "      <td>2</td>\n",
              "      <td>Grass</td>\n",
              "      <td>Monster</td>\n",
              "      <td>87.5</td>\n",
              "      <td>20.0</td>\n",
              "      <td>1.0</td>\n",
              "      <td>2.0</td>\n",
              "      <td>0.5</td>\n",
              "      <td>0.5</td>\n",
              "      <td>0.25</td>\n",
              "      <td>2.0</td>\n",
              "      <td>0.5</td>\n",
              "      <td>1.0</td>\n",
              "      <td>1.0</td>\n",
              "      <td>2.0</td>\n",
              "      <td>2.0</td>\n",
              "      <td>1.0</td>\n",
              "      <td>1.0</td>\n",
              "      <td>1.0</td>\n",
              "      <td>1.0</td>\n",
              "      <td>1.0</td>\n",
              "      <td>1.0</td>\n",
              "      <td>0.5</td>\n",
              "    </tr>\n",
              "    <tr>\n",
              "      <th>2</th>\n",
              "      <td>2</td>\n",
              "      <td>3</td>\n",
              "      <td>Venusaur</td>\n",
              "      <td>Bisaflor</td>\n",
              "      <td>フシギバナ (Fushigibana)</td>\n",
              "      <td>1</td>\n",
              "      <td>0</td>\n",
              "      <td>0</td>\n",
              "      <td>0</td>\n",
              "      <td>Seed Pokémon</td>\n",
              "      <td>2</td>\n",
              "      <td>Grass</td>\n",
              "      <td>Poison</td>\n",
              "      <td>2.0</td>\n",
              "      <td>100.0</td>\n",
              "      <td>2</td>\n",
              "      <td>Overgrow</td>\n",
              "      <td>NaN</td>\n",
              "      <td>Chlorophyll</td>\n",
              "      <td>525.0</td>\n",
              "      <td>80.0</td>\n",
              "      <td>82.0</td>\n",
              "      <td>83.0</td>\n",
              "      <td>100.0</td>\n",
              "      <td>100.0</td>\n",
              "      <td>80.0</td>\n",
              "      <td>45.0</td>\n",
              "      <td>70.0</td>\n",
              "      <td>236.0</td>\n",
              "      <td>Medium Slow</td>\n",
              "      <td>2</td>\n",
              "      <td>Grass</td>\n",
              "      <td>Monster</td>\n",
              "      <td>87.5</td>\n",
              "      <td>20.0</td>\n",
              "      <td>1.0</td>\n",
              "      <td>2.0</td>\n",
              "      <td>0.5</td>\n",
              "      <td>0.5</td>\n",
              "      <td>0.25</td>\n",
              "      <td>2.0</td>\n",
              "      <td>0.5</td>\n",
              "      <td>1.0</td>\n",
              "      <td>1.0</td>\n",
              "      <td>2.0</td>\n",
              "      <td>2.0</td>\n",
              "      <td>1.0</td>\n",
              "      <td>1.0</td>\n",
              "      <td>1.0</td>\n",
              "      <td>1.0</td>\n",
              "      <td>1.0</td>\n",
              "      <td>1.0</td>\n",
              "      <td>0.5</td>\n",
              "    </tr>\n",
              "    <tr>\n",
              "      <th>3</th>\n",
              "      <td>3</td>\n",
              "      <td>3</td>\n",
              "      <td>Mega Venusaur</td>\n",
              "      <td>Bisaflor</td>\n",
              "      <td>フシギバナ (Fushigibana)</td>\n",
              "      <td>1</td>\n",
              "      <td>0</td>\n",
              "      <td>0</td>\n",
              "      <td>0</td>\n",
              "      <td>Seed Pokémon</td>\n",
              "      <td>2</td>\n",
              "      <td>Grass</td>\n",
              "      <td>Poison</td>\n",
              "      <td>2.4</td>\n",
              "      <td>155.5</td>\n",
              "      <td>1</td>\n",
              "      <td>Thick Fat</td>\n",
              "      <td>NaN</td>\n",
              "      <td>NaN</td>\n",
              "      <td>625.0</td>\n",
              "      <td>80.0</td>\n",
              "      <td>100.0</td>\n",
              "      <td>123.0</td>\n",
              "      <td>122.0</td>\n",
              "      <td>120.0</td>\n",
              "      <td>80.0</td>\n",
              "      <td>45.0</td>\n",
              "      <td>70.0</td>\n",
              "      <td>281.0</td>\n",
              "      <td>Medium Slow</td>\n",
              "      <td>2</td>\n",
              "      <td>Grass</td>\n",
              "      <td>Monster</td>\n",
              "      <td>87.5</td>\n",
              "      <td>20.0</td>\n",
              "      <td>1.0</td>\n",
              "      <td>1.0</td>\n",
              "      <td>0.5</td>\n",
              "      <td>0.5</td>\n",
              "      <td>0.25</td>\n",
              "      <td>1.0</td>\n",
              "      <td>0.5</td>\n",
              "      <td>1.0</td>\n",
              "      <td>1.0</td>\n",
              "      <td>2.0</td>\n",
              "      <td>2.0</td>\n",
              "      <td>1.0</td>\n",
              "      <td>1.0</td>\n",
              "      <td>1.0</td>\n",
              "      <td>1.0</td>\n",
              "      <td>1.0</td>\n",
              "      <td>1.0</td>\n",
              "      <td>0.5</td>\n",
              "    </tr>\n",
              "    <tr>\n",
              "      <th>4</th>\n",
              "      <td>4</td>\n",
              "      <td>4</td>\n",
              "      <td>Charmander</td>\n",
              "      <td>Glumanda</td>\n",
              "      <td>ヒトカゲ (Hitokage)</td>\n",
              "      <td>1</td>\n",
              "      <td>0</td>\n",
              "      <td>0</td>\n",
              "      <td>0</td>\n",
              "      <td>Lizard Pokémon</td>\n",
              "      <td>1</td>\n",
              "      <td>Fire</td>\n",
              "      <td>NaN</td>\n",
              "      <td>0.6</td>\n",
              "      <td>8.5</td>\n",
              "      <td>2</td>\n",
              "      <td>Blaze</td>\n",
              "      <td>NaN</td>\n",
              "      <td>Solar Power</td>\n",
              "      <td>309.0</td>\n",
              "      <td>39.0</td>\n",
              "      <td>52.0</td>\n",
              "      <td>43.0</td>\n",
              "      <td>60.0</td>\n",
              "      <td>50.0</td>\n",
              "      <td>65.0</td>\n",
              "      <td>45.0</td>\n",
              "      <td>70.0</td>\n",
              "      <td>62.0</td>\n",
              "      <td>Medium Slow</td>\n",
              "      <td>2</td>\n",
              "      <td>Dragon</td>\n",
              "      <td>Monster</td>\n",
              "      <td>87.5</td>\n",
              "      <td>20.0</td>\n",
              "      <td>1.0</td>\n",
              "      <td>0.5</td>\n",
              "      <td>2.0</td>\n",
              "      <td>1.0</td>\n",
              "      <td>0.50</td>\n",
              "      <td>0.5</td>\n",
              "      <td>1.0</td>\n",
              "      <td>1.0</td>\n",
              "      <td>2.0</td>\n",
              "      <td>1.0</td>\n",
              "      <td>1.0</td>\n",
              "      <td>0.5</td>\n",
              "      <td>2.0</td>\n",
              "      <td>1.0</td>\n",
              "      <td>1.0</td>\n",
              "      <td>1.0</td>\n",
              "      <td>0.5</td>\n",
              "      <td>0.5</td>\n",
              "    </tr>\n",
              "  </tbody>\n",
              "</table>\n",
              "</div>"
            ],
            "text/plain": [
              "   Unnamed: 0  pokedex_number  ... against_steel against_fairy\n",
              "0           0               1  ...           1.0           0.5\n",
              "1           1               2  ...           1.0           0.5\n",
              "2           2               3  ...           1.0           0.5\n",
              "3           3               3  ...           1.0           0.5\n",
              "4           4               4  ...           0.5           0.5\n",
              "\n",
              "[5 rows x 53 columns]"
            ]
          },
          "metadata": {
            "tags": []
          },
          "execution_count": 6
        }
      ]
    },
    {
      "cell_type": "code",
      "metadata": {
        "id": "QFiEvQ6YEcde",
        "colab_type": "code",
        "colab": {
          "base_uri": "https://localhost:8080/",
          "height": 1000
        },
        "outputId": "57d12763-a290-4ad1-e859-e371ef19ce39"
      },
      "source": [
        "raw_data.info()"
      ],
      "execution_count": null,
      "outputs": [
        {
          "output_type": "stream",
          "text": [
            "<class 'pandas.core.frame.DataFrame'>\n",
            "RangeIndex: 1028 entries, 0 to 1027\n",
            "Data columns (total 53 columns):\n",
            " #   Column            Non-Null Count  Dtype  \n",
            "---  ------            --------------  -----  \n",
            " 0   Unnamed: 0        1028 non-null   int64  \n",
            " 1   pokedex_number    1028 non-null   int64  \n",
            " 2   name              1028 non-null   object \n",
            " 3   german_name       938 non-null    object \n",
            " 4   japanese_name     938 non-null    object \n",
            " 5   generation        1028 non-null   int64  \n",
            " 6   is_sub_legendary  1028 non-null   int64  \n",
            " 7   is_legendary      1028 non-null   int64  \n",
            " 8   is_mythical       1028 non-null   int64  \n",
            " 9   species           1027 non-null   object \n",
            " 10  type_number       1028 non-null   int64  \n",
            " 11  type_1            1027 non-null   object \n",
            " 12  type_2            541 non-null    object \n",
            " 13  height_m          1027 non-null   float64\n",
            " 14  weight_kg         1026 non-null   float64\n",
            " 15  abilities_number  1028 non-null   int64  \n",
            " 16  ability_1         1024 non-null   object \n",
            " 17  ability_2         512 non-null    object \n",
            " 18  ability_hidden    810 non-null    object \n",
            " 19  total_points      1027 non-null   float64\n",
            " 20  hp                1027 non-null   float64\n",
            " 21  attack            1027 non-null   float64\n",
            " 22  defense           1027 non-null   float64\n",
            " 23  sp_attack         1027 non-null   float64\n",
            " 24  sp_defense        1027 non-null   float64\n",
            " 25  speed             1027 non-null   float64\n",
            " 26  catch_rate        923 non-null    float64\n",
            " 27  base_friendship   923 non-null    float64\n",
            " 28  base_experience   923 non-null    float64\n",
            " 29  growth_rate       1026 non-null   object \n",
            " 30  egg_type_number   1028 non-null   int64  \n",
            " 31  egg_type_1        1024 non-null   object \n",
            " 32  egg_type_2        282 non-null    object \n",
            " 33  percentage_male   791 non-null    float64\n",
            " 34  egg_cycles        1026 non-null   float64\n",
            " 35  against_normal    1027 non-null   float64\n",
            " 36  against_fire      1027 non-null   float64\n",
            " 37  against_water     1027 non-null   float64\n",
            " 38  against_electric  1027 non-null   float64\n",
            " 39  against_grass     1027 non-null   float64\n",
            " 40  against_ice       1027 non-null   float64\n",
            " 41  against_fight     1027 non-null   float64\n",
            " 42  against_poison    1027 non-null   float64\n",
            " 43  against_ground    1027 non-null   float64\n",
            " 44  against_flying    1027 non-null   float64\n",
            " 45  against_psychic   1027 non-null   float64\n",
            " 46  against_bug       1027 non-null   float64\n",
            " 47  against_rock      1027 non-null   float64\n",
            " 48  against_ghost     1027 non-null   float64\n",
            " 49  against_dragon    1027 non-null   float64\n",
            " 50  against_dark      1027 non-null   float64\n",
            " 51  against_steel     1027 non-null   float64\n",
            " 52  against_fairy     1027 non-null   float64\n",
            "dtypes: float64(32), int64(9), object(12)\n",
            "memory usage: 425.8+ KB\n"
          ],
          "name": "stdout"
        }
      ]
    },
    {
      "cell_type": "code",
      "metadata": {
        "id": "4gK_Z-Eybo4_",
        "colab_type": "code",
        "colab": {
          "base_uri": "https://localhost:8080/",
          "height": 315
        },
        "outputId": "32bdb570-7160-475a-a457-8b3c5e8963c0"
      },
      "source": [
        "raw_data.egg_type_1.value_counts()"
      ],
      "execution_count": 6,
      "outputs": [
        {
          "output_type": "execute_result",
          "data": {
            "text/plain": [
              "Field           258\n",
              "Undiscovered    138\n",
              "Bug              90\n",
              "Amorphous        84\n",
              "Dragon           67\n",
              "Fairy            62\n",
              "Mineral          59\n",
              "Flying           57\n",
              "Grass            51\n",
              "Human-Like       45\n",
              "Monster          40\n",
              "Water 1          36\n",
              "Water 2          20\n",
              "Water 3          16\n",
              "Ditto             1\n",
              "Name: egg_type_1, dtype: int64"
            ]
          },
          "metadata": {
            "tags": []
          },
          "execution_count": 6
        }
      ]
    },
    {
      "cell_type": "code",
      "metadata": {
        "id": "r_OxATETEent",
        "colab_type": "code",
        "colab": {
          "base_uri": "https://localhost:8080/",
          "height": 1000
        },
        "outputId": "54bacf13-1d65-46fa-b5ba-ac9b910d9db9"
      },
      "source": [
        "raw_data.describe().T"
      ],
      "execution_count": 7,
      "outputs": [
        {
          "output_type": "execute_result",
          "data": {
            "text/html": [
              "<div>\n",
              "<style scoped>\n",
              "    .dataframe tbody tr th:only-of-type {\n",
              "        vertical-align: middle;\n",
              "    }\n",
              "\n",
              "    .dataframe tbody tr th {\n",
              "        vertical-align: top;\n",
              "    }\n",
              "\n",
              "    .dataframe thead th {\n",
              "        text-align: right;\n",
              "    }\n",
              "</style>\n",
              "<table border=\"1\" class=\"dataframe\">\n",
              "  <thead>\n",
              "    <tr style=\"text-align: right;\">\n",
              "      <th></th>\n",
              "      <th>count</th>\n",
              "      <th>mean</th>\n",
              "      <th>std</th>\n",
              "      <th>min</th>\n",
              "      <th>25%</th>\n",
              "      <th>50%</th>\n",
              "      <th>75%</th>\n",
              "      <th>max</th>\n",
              "    </tr>\n",
              "  </thead>\n",
              "  <tbody>\n",
              "    <tr>\n",
              "      <th>Unnamed: 0</th>\n",
              "      <td>1028.0</td>\n",
              "      <td>513.500000</td>\n",
              "      <td>296.902341</td>\n",
              "      <td>0.00</td>\n",
              "      <td>256.750</td>\n",
              "      <td>513.50</td>\n",
              "      <td>770.25</td>\n",
              "      <td>1027.0</td>\n",
              "    </tr>\n",
              "    <tr>\n",
              "      <th>pokedex_number</th>\n",
              "      <td>1028.0</td>\n",
              "      <td>437.711089</td>\n",
              "      <td>259.366480</td>\n",
              "      <td>1.00</td>\n",
              "      <td>213.750</td>\n",
              "      <td>433.50</td>\n",
              "      <td>663.25</td>\n",
              "      <td>890.0</td>\n",
              "    </tr>\n",
              "    <tr>\n",
              "      <th>generation</th>\n",
              "      <td>1028.0</td>\n",
              "      <td>4.034047</td>\n",
              "      <td>2.234937</td>\n",
              "      <td>1.00</td>\n",
              "      <td>2.000</td>\n",
              "      <td>4.00</td>\n",
              "      <td>6.00</td>\n",
              "      <td>8.0</td>\n",
              "    </tr>\n",
              "    <tr>\n",
              "      <th>is_sub_legendary</th>\n",
              "      <td>1028.0</td>\n",
              "      <td>0.043774</td>\n",
              "      <td>0.204692</td>\n",
              "      <td>0.00</td>\n",
              "      <td>0.000</td>\n",
              "      <td>0.00</td>\n",
              "      <td>0.00</td>\n",
              "      <td>1.0</td>\n",
              "    </tr>\n",
              "    <tr>\n",
              "      <th>is_legendary</th>\n",
              "      <td>1028.0</td>\n",
              "      <td>0.037938</td>\n",
              "      <td>0.191139</td>\n",
              "      <td>0.00</td>\n",
              "      <td>0.000</td>\n",
              "      <td>0.00</td>\n",
              "      <td>0.00</td>\n",
              "      <td>1.0</td>\n",
              "    </tr>\n",
              "    <tr>\n",
              "      <th>is_mythical</th>\n",
              "      <td>1028.0</td>\n",
              "      <td>0.028210</td>\n",
              "      <td>0.165653</td>\n",
              "      <td>0.00</td>\n",
              "      <td>0.000</td>\n",
              "      <td>0.00</td>\n",
              "      <td>0.00</td>\n",
              "      <td>1.0</td>\n",
              "    </tr>\n",
              "    <tr>\n",
              "      <th>type_number</th>\n",
              "      <td>1028.0</td>\n",
              "      <td>1.525292</td>\n",
              "      <td>0.501548</td>\n",
              "      <td>0.00</td>\n",
              "      <td>1.000</td>\n",
              "      <td>2.00</td>\n",
              "      <td>2.00</td>\n",
              "      <td>2.0</td>\n",
              "    </tr>\n",
              "    <tr>\n",
              "      <th>height_m</th>\n",
              "      <td>1027.0</td>\n",
              "      <td>1.368939</td>\n",
              "      <td>3.381664</td>\n",
              "      <td>0.10</td>\n",
              "      <td>0.600</td>\n",
              "      <td>1.00</td>\n",
              "      <td>1.50</td>\n",
              "      <td>100.0</td>\n",
              "    </tr>\n",
              "    <tr>\n",
              "      <th>weight_kg</th>\n",
              "      <td>1026.0</td>\n",
              "      <td>69.819688</td>\n",
              "      <td>129.266962</td>\n",
              "      <td>0.10</td>\n",
              "      <td>8.825</td>\n",
              "      <td>28.65</td>\n",
              "      <td>69.55</td>\n",
              "      <td>999.9</td>\n",
              "    </tr>\n",
              "    <tr>\n",
              "      <th>abilities_number</th>\n",
              "      <td>1028.0</td>\n",
              "      <td>2.282101</td>\n",
              "      <td>0.795674</td>\n",
              "      <td>0.00</td>\n",
              "      <td>2.000</td>\n",
              "      <td>2.00</td>\n",
              "      <td>3.00</td>\n",
              "      <td>3.0</td>\n",
              "    </tr>\n",
              "    <tr>\n",
              "      <th>total_points</th>\n",
              "      <td>1027.0</td>\n",
              "      <td>437.603700</td>\n",
              "      <td>121.719934</td>\n",
              "      <td>175.00</td>\n",
              "      <td>330.000</td>\n",
              "      <td>455.00</td>\n",
              "      <td>510.00</td>\n",
              "      <td>1125.0</td>\n",
              "    </tr>\n",
              "    <tr>\n",
              "      <th>hp</th>\n",
              "      <td>1027.0</td>\n",
              "      <td>69.587147</td>\n",
              "      <td>26.397009</td>\n",
              "      <td>1.00</td>\n",
              "      <td>50.000</td>\n",
              "      <td>67.00</td>\n",
              "      <td>80.00</td>\n",
              "      <td>255.0</td>\n",
              "    </tr>\n",
              "    <tr>\n",
              "      <th>attack</th>\n",
              "      <td>1027.0</td>\n",
              "      <td>80.114898</td>\n",
              "      <td>32.387734</td>\n",
              "      <td>5.00</td>\n",
              "      <td>55.000</td>\n",
              "      <td>76.00</td>\n",
              "      <td>100.00</td>\n",
              "      <td>190.0</td>\n",
              "    </tr>\n",
              "    <tr>\n",
              "      <th>defense</th>\n",
              "      <td>1027.0</td>\n",
              "      <td>74.507303</td>\n",
              "      <td>31.302129</td>\n",
              "      <td>5.00</td>\n",
              "      <td>50.000</td>\n",
              "      <td>70.00</td>\n",
              "      <td>90.00</td>\n",
              "      <td>250.0</td>\n",
              "    </tr>\n",
              "    <tr>\n",
              "      <th>sp_attack</th>\n",
              "      <td>1027.0</td>\n",
              "      <td>72.720545</td>\n",
              "      <td>32.691374</td>\n",
              "      <td>10.00</td>\n",
              "      <td>50.000</td>\n",
              "      <td>65.00</td>\n",
              "      <td>95.00</td>\n",
              "      <td>194.0</td>\n",
              "    </tr>\n",
              "    <tr>\n",
              "      <th>sp_defense</th>\n",
              "      <td>1027.0</td>\n",
              "      <td>72.161636</td>\n",
              "      <td>28.081599</td>\n",
              "      <td>20.00</td>\n",
              "      <td>50.000</td>\n",
              "      <td>70.00</td>\n",
              "      <td>90.00</td>\n",
              "      <td>250.0</td>\n",
              "    </tr>\n",
              "    <tr>\n",
              "      <th>speed</th>\n",
              "      <td>1027.0</td>\n",
              "      <td>68.512171</td>\n",
              "      <td>29.808365</td>\n",
              "      <td>5.00</td>\n",
              "      <td>45.000</td>\n",
              "      <td>65.00</td>\n",
              "      <td>90.00</td>\n",
              "      <td>180.0</td>\n",
              "    </tr>\n",
              "    <tr>\n",
              "      <th>catch_rate</th>\n",
              "      <td>923.0</td>\n",
              "      <td>93.240520</td>\n",
              "      <td>75.252637</td>\n",
              "      <td>3.00</td>\n",
              "      <td>45.000</td>\n",
              "      <td>60.00</td>\n",
              "      <td>127.00</td>\n",
              "      <td>255.0</td>\n",
              "    </tr>\n",
              "    <tr>\n",
              "      <th>base_friendship</th>\n",
              "      <td>923.0</td>\n",
              "      <td>64.171181</td>\n",
              "      <td>21.445612</td>\n",
              "      <td>0.00</td>\n",
              "      <td>70.000</td>\n",
              "      <td>70.00</td>\n",
              "      <td>70.00</td>\n",
              "      <td>140.0</td>\n",
              "    </tr>\n",
              "    <tr>\n",
              "      <th>base_experience</th>\n",
              "      <td>923.0</td>\n",
              "      <td>153.893824</td>\n",
              "      <td>79.277305</td>\n",
              "      <td>36.00</td>\n",
              "      <td>67.000</td>\n",
              "      <td>159.00</td>\n",
              "      <td>202.00</td>\n",
              "      <td>608.0</td>\n",
              "    </tr>\n",
              "    <tr>\n",
              "      <th>egg_type_number</th>\n",
              "      <td>1028.0</td>\n",
              "      <td>1.270428</td>\n",
              "      <td>0.453077</td>\n",
              "      <td>0.00</td>\n",
              "      <td>1.000</td>\n",
              "      <td>1.00</td>\n",
              "      <td>2.00</td>\n",
              "      <td>2.0</td>\n",
              "    </tr>\n",
              "    <tr>\n",
              "      <th>percentage_male</th>\n",
              "      <td>791.0</td>\n",
              "      <td>55.009482</td>\n",
              "      <td>20.194660</td>\n",
              "      <td>0.00</td>\n",
              "      <td>50.000</td>\n",
              "      <td>50.00</td>\n",
              "      <td>50.00</td>\n",
              "      <td>100.0</td>\n",
              "    </tr>\n",
              "    <tr>\n",
              "      <th>egg_cycles</th>\n",
              "      <td>1026.0</td>\n",
              "      <td>30.326511</td>\n",
              "      <td>28.955232</td>\n",
              "      <td>5.00</td>\n",
              "      <td>20.000</td>\n",
              "      <td>20.00</td>\n",
              "      <td>25.00</td>\n",
              "      <td>120.0</td>\n",
              "    </tr>\n",
              "    <tr>\n",
              "      <th>against_normal</th>\n",
              "      <td>1027.0</td>\n",
              "      <td>0.868306</td>\n",
              "      <td>0.286346</td>\n",
              "      <td>0.00</td>\n",
              "      <td>1.000</td>\n",
              "      <td>1.00</td>\n",
              "      <td>1.00</td>\n",
              "      <td>1.0</td>\n",
              "    </tr>\n",
              "    <tr>\n",
              "      <th>against_fire</th>\n",
              "      <td>1027.0</td>\n",
              "      <td>1.125609</td>\n",
              "      <td>0.718081</td>\n",
              "      <td>0.00</td>\n",
              "      <td>0.500</td>\n",
              "      <td>1.00</td>\n",
              "      <td>2.00</td>\n",
              "      <td>4.0</td>\n",
              "    </tr>\n",
              "    <tr>\n",
              "      <th>against_water</th>\n",
              "      <td>1027.0</td>\n",
              "      <td>1.053554</td>\n",
              "      <td>0.613708</td>\n",
              "      <td>0.00</td>\n",
              "      <td>0.500</td>\n",
              "      <td>1.00</td>\n",
              "      <td>1.00</td>\n",
              "      <td>4.0</td>\n",
              "    </tr>\n",
              "    <tr>\n",
              "      <th>against_electric</th>\n",
              "      <td>1027.0</td>\n",
              "      <td>1.033350</td>\n",
              "      <td>0.644776</td>\n",
              "      <td>0.00</td>\n",
              "      <td>0.500</td>\n",
              "      <td>1.00</td>\n",
              "      <td>1.00</td>\n",
              "      <td>4.0</td>\n",
              "    </tr>\n",
              "    <tr>\n",
              "      <th>against_grass</th>\n",
              "      <td>1027.0</td>\n",
              "      <td>1.004625</td>\n",
              "      <td>0.748726</td>\n",
              "      <td>0.00</td>\n",
              "      <td>0.500</td>\n",
              "      <td>1.00</td>\n",
              "      <td>1.00</td>\n",
              "      <td>4.0</td>\n",
              "    </tr>\n",
              "    <tr>\n",
              "      <th>against_ice</th>\n",
              "      <td>1027.0</td>\n",
              "      <td>1.195716</td>\n",
              "      <td>0.759427</td>\n",
              "      <td>0.00</td>\n",
              "      <td>0.500</td>\n",
              "      <td>1.00</td>\n",
              "      <td>2.00</td>\n",
              "      <td>4.0</td>\n",
              "    </tr>\n",
              "    <tr>\n",
              "      <th>against_fight</th>\n",
              "      <td>1027.0</td>\n",
              "      <td>1.078870</td>\n",
              "      <td>0.755333</td>\n",
              "      <td>0.00</td>\n",
              "      <td>0.500</td>\n",
              "      <td>1.00</td>\n",
              "      <td>2.00</td>\n",
              "      <td>4.0</td>\n",
              "    </tr>\n",
              "    <tr>\n",
              "      <th>against_poison</th>\n",
              "      <td>1027.0</td>\n",
              "      <td>0.952288</td>\n",
              "      <td>0.543244</td>\n",
              "      <td>0.00</td>\n",
              "      <td>0.500</td>\n",
              "      <td>1.00</td>\n",
              "      <td>1.00</td>\n",
              "      <td>4.0</td>\n",
              "    </tr>\n",
              "    <tr>\n",
              "      <th>against_ground</th>\n",
              "      <td>1027.0</td>\n",
              "      <td>1.085686</td>\n",
              "      <td>0.784589</td>\n",
              "      <td>0.00</td>\n",
              "      <td>0.500</td>\n",
              "      <td>1.00</td>\n",
              "      <td>1.75</td>\n",
              "      <td>4.0</td>\n",
              "    </tr>\n",
              "    <tr>\n",
              "      <th>against_flying</th>\n",
              "      <td>1027.0</td>\n",
              "      <td>1.166504</td>\n",
              "      <td>0.593296</td>\n",
              "      <td>0.25</td>\n",
              "      <td>1.000</td>\n",
              "      <td>1.00</td>\n",
              "      <td>1.00</td>\n",
              "      <td>4.0</td>\n",
              "    </tr>\n",
              "    <tr>\n",
              "      <th>against_psychic</th>\n",
              "      <td>1027.0</td>\n",
              "      <td>0.980282</td>\n",
              "      <td>0.498451</td>\n",
              "      <td>0.00</td>\n",
              "      <td>1.000</td>\n",
              "      <td>1.00</td>\n",
              "      <td>1.00</td>\n",
              "      <td>4.0</td>\n",
              "    </tr>\n",
              "    <tr>\n",
              "      <th>against_bug</th>\n",
              "      <td>1027.0</td>\n",
              "      <td>0.992454</td>\n",
              "      <td>0.598592</td>\n",
              "      <td>0.00</td>\n",
              "      <td>0.500</td>\n",
              "      <td>1.00</td>\n",
              "      <td>1.00</td>\n",
              "      <td>4.0</td>\n",
              "    </tr>\n",
              "    <tr>\n",
              "      <th>against_rock</th>\n",
              "      <td>1027.0</td>\n",
              "      <td>1.239046</td>\n",
              "      <td>0.699094</td>\n",
              "      <td>0.25</td>\n",
              "      <td>1.000</td>\n",
              "      <td>1.00</td>\n",
              "      <td>2.00</td>\n",
              "      <td>4.0</td>\n",
              "    </tr>\n",
              "    <tr>\n",
              "      <th>against_ghost</th>\n",
              "      <td>1027.0</td>\n",
              "      <td>1.011198</td>\n",
              "      <td>0.558578</td>\n",
              "      <td>0.00</td>\n",
              "      <td>1.000</td>\n",
              "      <td>1.00</td>\n",
              "      <td>1.00</td>\n",
              "      <td>4.0</td>\n",
              "    </tr>\n",
              "    <tr>\n",
              "      <th>against_dragon</th>\n",
              "      <td>1027.0</td>\n",
              "      <td>0.975657</td>\n",
              "      <td>0.377732</td>\n",
              "      <td>0.00</td>\n",
              "      <td>1.000</td>\n",
              "      <td>1.00</td>\n",
              "      <td>1.00</td>\n",
              "      <td>2.0</td>\n",
              "    </tr>\n",
              "    <tr>\n",
              "      <th>against_dark</th>\n",
              "      <td>1027.0</td>\n",
              "      <td>1.066212</td>\n",
              "      <td>0.450928</td>\n",
              "      <td>0.25</td>\n",
              "      <td>1.000</td>\n",
              "      <td>1.00</td>\n",
              "      <td>1.00</td>\n",
              "      <td>4.0</td>\n",
              "    </tr>\n",
              "    <tr>\n",
              "      <th>against_steel</th>\n",
              "      <td>1027.0</td>\n",
              "      <td>0.980282</td>\n",
              "      <td>0.503679</td>\n",
              "      <td>0.00</td>\n",
              "      <td>0.500</td>\n",
              "      <td>1.00</td>\n",
              "      <td>1.00</td>\n",
              "      <td>4.0</td>\n",
              "    </tr>\n",
              "    <tr>\n",
              "      <th>against_fairy</th>\n",
              "      <td>1027.0</td>\n",
              "      <td>1.083982</td>\n",
              "      <td>0.527226</td>\n",
              "      <td>0.00</td>\n",
              "      <td>1.000</td>\n",
              "      <td>1.00</td>\n",
              "      <td>1.00</td>\n",
              "      <td>4.0</td>\n",
              "    </tr>\n",
              "  </tbody>\n",
              "</table>\n",
              "</div>"
            ],
            "text/plain": [
              "                   count        mean         std  ...     50%     75%     max\n",
              "Unnamed: 0        1028.0  513.500000  296.902341  ...  513.50  770.25  1027.0\n",
              "pokedex_number    1028.0  437.711089  259.366480  ...  433.50  663.25   890.0\n",
              "generation        1028.0    4.034047    2.234937  ...    4.00    6.00     8.0\n",
              "is_sub_legendary  1028.0    0.043774    0.204692  ...    0.00    0.00     1.0\n",
              "is_legendary      1028.0    0.037938    0.191139  ...    0.00    0.00     1.0\n",
              "is_mythical       1028.0    0.028210    0.165653  ...    0.00    0.00     1.0\n",
              "type_number       1028.0    1.525292    0.501548  ...    2.00    2.00     2.0\n",
              "height_m          1027.0    1.368939    3.381664  ...    1.00    1.50   100.0\n",
              "weight_kg         1026.0   69.819688  129.266962  ...   28.65   69.55   999.9\n",
              "abilities_number  1028.0    2.282101    0.795674  ...    2.00    3.00     3.0\n",
              "total_points      1027.0  437.603700  121.719934  ...  455.00  510.00  1125.0\n",
              "hp                1027.0   69.587147   26.397009  ...   67.00   80.00   255.0\n",
              "attack            1027.0   80.114898   32.387734  ...   76.00  100.00   190.0\n",
              "defense           1027.0   74.507303   31.302129  ...   70.00   90.00   250.0\n",
              "sp_attack         1027.0   72.720545   32.691374  ...   65.00   95.00   194.0\n",
              "sp_defense        1027.0   72.161636   28.081599  ...   70.00   90.00   250.0\n",
              "speed             1027.0   68.512171   29.808365  ...   65.00   90.00   180.0\n",
              "catch_rate         923.0   93.240520   75.252637  ...   60.00  127.00   255.0\n",
              "base_friendship    923.0   64.171181   21.445612  ...   70.00   70.00   140.0\n",
              "base_experience    923.0  153.893824   79.277305  ...  159.00  202.00   608.0\n",
              "egg_type_number   1028.0    1.270428    0.453077  ...    1.00    2.00     2.0\n",
              "percentage_male    791.0   55.009482   20.194660  ...   50.00   50.00   100.0\n",
              "egg_cycles        1026.0   30.326511   28.955232  ...   20.00   25.00   120.0\n",
              "against_normal    1027.0    0.868306    0.286346  ...    1.00    1.00     1.0\n",
              "against_fire      1027.0    1.125609    0.718081  ...    1.00    2.00     4.0\n",
              "against_water     1027.0    1.053554    0.613708  ...    1.00    1.00     4.0\n",
              "against_electric  1027.0    1.033350    0.644776  ...    1.00    1.00     4.0\n",
              "against_grass     1027.0    1.004625    0.748726  ...    1.00    1.00     4.0\n",
              "against_ice       1027.0    1.195716    0.759427  ...    1.00    2.00     4.0\n",
              "against_fight     1027.0    1.078870    0.755333  ...    1.00    2.00     4.0\n",
              "against_poison    1027.0    0.952288    0.543244  ...    1.00    1.00     4.0\n",
              "against_ground    1027.0    1.085686    0.784589  ...    1.00    1.75     4.0\n",
              "against_flying    1027.0    1.166504    0.593296  ...    1.00    1.00     4.0\n",
              "against_psychic   1027.0    0.980282    0.498451  ...    1.00    1.00     4.0\n",
              "against_bug       1027.0    0.992454    0.598592  ...    1.00    1.00     4.0\n",
              "against_rock      1027.0    1.239046    0.699094  ...    1.00    2.00     4.0\n",
              "against_ghost     1027.0    1.011198    0.558578  ...    1.00    1.00     4.0\n",
              "against_dragon    1027.0    0.975657    0.377732  ...    1.00    1.00     2.0\n",
              "against_dark      1027.0    1.066212    0.450928  ...    1.00    1.00     4.0\n",
              "against_steel     1027.0    0.980282    0.503679  ...    1.00    1.00     4.0\n",
              "against_fairy     1027.0    1.083982    0.527226  ...    1.00    1.00     4.0\n",
              "\n",
              "[41 rows x 8 columns]"
            ]
          },
          "metadata": {
            "tags": []
          },
          "execution_count": 7
        }
      ]
    },
    {
      "cell_type": "code",
      "metadata": {
        "id": "LRq6uqySE9jW",
        "colab_type": "code",
        "colab": {
          "base_uri": "https://localhost:8080/",
          "height": 1000
        },
        "outputId": "949bc8de-76f3-4933-a51e-97bd0f95785b"
      },
      "source": [
        "nulls_summary = pd.DataFrame(raw_data.isnull().any(), columns=['Nulls'])   \n",
        "nulls_summary['Num_of_nulls [qty]'] = pd.DataFrame(raw_data.isnull().sum())   \n",
        "nulls_summary['Num_of_nulls [%]'] = round((raw_data.isnull().mean()*100),2)   \n",
        "print(nulls_summary) "
      ],
      "execution_count": 8,
      "outputs": [
        {
          "output_type": "stream",
          "text": [
            "                  Nulls  Num_of_nulls [qty]  Num_of_nulls [%]\n",
            "Unnamed: 0        False                   0              0.00\n",
            "pokedex_number    False                   0              0.00\n",
            "name              False                   0              0.00\n",
            "german_name        True                  90              8.75\n",
            "japanese_name      True                  90              8.75\n",
            "generation        False                   0              0.00\n",
            "is_sub_legendary  False                   0              0.00\n",
            "is_legendary      False                   0              0.00\n",
            "is_mythical       False                   0              0.00\n",
            "species            True                   1              0.10\n",
            "type_number       False                   0              0.00\n",
            "type_1             True                   1              0.10\n",
            "type_2             True                 487             47.37\n",
            "height_m           True                   1              0.10\n",
            "weight_kg          True                   2              0.19\n",
            "abilities_number  False                   0              0.00\n",
            "ability_1          True                   4              0.39\n",
            "ability_2          True                 516             50.19\n",
            "ability_hidden     True                 218             21.21\n",
            "total_points       True                   1              0.10\n",
            "hp                 True                   1              0.10\n",
            "attack             True                   1              0.10\n",
            "defense            True                   1              0.10\n",
            "sp_attack          True                   1              0.10\n",
            "sp_defense         True                   1              0.10\n",
            "speed              True                   1              0.10\n",
            "catch_rate         True                 105             10.21\n",
            "base_friendship    True                 105             10.21\n",
            "base_experience    True                 105             10.21\n",
            "growth_rate        True                   2              0.19\n",
            "egg_type_number   False                   0              0.00\n",
            "egg_type_1         True                   4              0.39\n",
            "egg_type_2         True                 746             72.57\n",
            "percentage_male    True                 237             23.05\n",
            "egg_cycles         True                   2              0.19\n",
            "against_normal     True                   1              0.10\n",
            "against_fire       True                   1              0.10\n",
            "against_water      True                   1              0.10\n",
            "against_electric   True                   1              0.10\n",
            "against_grass      True                   1              0.10\n",
            "against_ice        True                   1              0.10\n",
            "against_fight      True                   1              0.10\n",
            "against_poison     True                   1              0.10\n",
            "against_ground     True                   1              0.10\n",
            "against_flying     True                   1              0.10\n",
            "against_psychic    True                   1              0.10\n",
            "against_bug        True                   1              0.10\n",
            "against_rock       True                   1              0.10\n",
            "against_ghost      True                   1              0.10\n",
            "against_dragon     True                   1              0.10\n",
            "against_dark       True                   1              0.10\n",
            "against_steel      True                   1              0.10\n",
            "against_fairy      True                   1              0.10\n"
          ],
          "name": "stdout"
        }
      ]
    },
    {
      "cell_type": "code",
      "metadata": {
        "id": "XDg6423Owig8",
        "colab_type": "code",
        "colab": {}
      },
      "source": [
        "raw_data.dropna(axis=0, subset=['egg_type_1'], inplace=True)\n",
        "raw_data.dropna(axis=0, subset=['percentage_male'], inplace=True)\n",
        "raw_data.dropna(axis=0, subset=['egg_cycles'], inplace=True)\n",
        "raw_data.dropna(axis=0, subset=['growth_rate'], inplace=True)"
      ],
      "execution_count": 9,
      "outputs": []
    },
    {
      "cell_type": "code",
      "metadata": {
        "id": "X16zEbbvw8JE",
        "colab_type": "code",
        "colab": {
          "base_uri": "https://localhost:8080/",
          "height": 337
        },
        "outputId": "6ad95c51-a187-4ab9-cf42-54dfedad4115"
      },
      "source": [
        "raw_data.describe()"
      ],
      "execution_count": 14,
      "outputs": [
        {
          "output_type": "execute_result",
          "data": {
            "text/html": [
              "<div>\n",
              "<style scoped>\n",
              "    .dataframe tbody tr th:only-of-type {\n",
              "        vertical-align: middle;\n",
              "    }\n",
              "\n",
              "    .dataframe tbody tr th {\n",
              "        vertical-align: top;\n",
              "    }\n",
              "\n",
              "    .dataframe thead th {\n",
              "        text-align: right;\n",
              "    }\n",
              "</style>\n",
              "<table border=\"1\" class=\"dataframe\">\n",
              "  <thead>\n",
              "    <tr style=\"text-align: right;\">\n",
              "      <th></th>\n",
              "      <th>Unnamed: 0</th>\n",
              "      <th>pokedex_number</th>\n",
              "      <th>generation</th>\n",
              "      <th>is_sub_legendary</th>\n",
              "      <th>is_legendary</th>\n",
              "      <th>is_mythical</th>\n",
              "      <th>type_number</th>\n",
              "      <th>height_m</th>\n",
              "      <th>weight_kg</th>\n",
              "      <th>abilities_number</th>\n",
              "      <th>total_points</th>\n",
              "      <th>hp</th>\n",
              "      <th>attack</th>\n",
              "      <th>defense</th>\n",
              "      <th>sp_attack</th>\n",
              "      <th>sp_defense</th>\n",
              "      <th>speed</th>\n",
              "      <th>catch_rate</th>\n",
              "      <th>base_friendship</th>\n",
              "      <th>base_experience</th>\n",
              "      <th>egg_type_number</th>\n",
              "      <th>percentage_male</th>\n",
              "      <th>egg_cycles</th>\n",
              "      <th>against_normal</th>\n",
              "      <th>against_fire</th>\n",
              "      <th>against_water</th>\n",
              "      <th>against_electric</th>\n",
              "      <th>against_grass</th>\n",
              "      <th>against_ice</th>\n",
              "      <th>against_fight</th>\n",
              "      <th>against_poison</th>\n",
              "      <th>against_ground</th>\n",
              "      <th>against_flying</th>\n",
              "      <th>against_psychic</th>\n",
              "      <th>against_bug</th>\n",
              "      <th>against_rock</th>\n",
              "      <th>against_ghost</th>\n",
              "      <th>against_dragon</th>\n",
              "      <th>against_dark</th>\n",
              "      <th>against_steel</th>\n",
              "      <th>against_fairy</th>\n",
              "    </tr>\n",
              "  </thead>\n",
              "  <tbody>\n",
              "    <tr>\n",
              "      <th>count</th>\n",
              "      <td>789.000000</td>\n",
              "      <td>789.000000</td>\n",
              "      <td>789.000000</td>\n",
              "      <td>789.000000</td>\n",
              "      <td>789.0</td>\n",
              "      <td>789.0</td>\n",
              "      <td>789.000000</td>\n",
              "      <td>789.000000</td>\n",
              "      <td>789.000000</td>\n",
              "      <td>789.000000</td>\n",
              "      <td>789.000000</td>\n",
              "      <td>789.000000</td>\n",
              "      <td>789.000000</td>\n",
              "      <td>789.000000</td>\n",
              "      <td>789.000000</td>\n",
              "      <td>789.000000</td>\n",
              "      <td>789.000000</td>\n",
              "      <td>789.000000</td>\n",
              "      <td>789.000000</td>\n",
              "      <td>789.000000</td>\n",
              "      <td>789.000000</td>\n",
              "      <td>789.000000</td>\n",
              "      <td>789.000000</td>\n",
              "      <td>789.000000</td>\n",
              "      <td>789.000000</td>\n",
              "      <td>789.000000</td>\n",
              "      <td>789.000000</td>\n",
              "      <td>789.000000</td>\n",
              "      <td>789.000000</td>\n",
              "      <td>789.000000</td>\n",
              "      <td>789.000000</td>\n",
              "      <td>789.000000</td>\n",
              "      <td>789.000000</td>\n",
              "      <td>789.000000</td>\n",
              "      <td>789.000000</td>\n",
              "      <td>789.000000</td>\n",
              "      <td>789.000000</td>\n",
              "      <td>789.000000</td>\n",
              "      <td>789.000000</td>\n",
              "      <td>789.000000</td>\n",
              "      <td>789.000000</td>\n",
              "    </tr>\n",
              "    <tr>\n",
              "      <th>mean</th>\n",
              "      <td>447.950570</td>\n",
              "      <td>380.273764</td>\n",
              "      <td>3.557668</td>\n",
              "      <td>0.015209</td>\n",
              "      <td>0.0</td>\n",
              "      <td>0.0</td>\n",
              "      <td>1.515843</td>\n",
              "      <td>1.124081</td>\n",
              "      <td>50.105070</td>\n",
              "      <td>2.418251</td>\n",
              "      <td>416.825095</td>\n",
              "      <td>67.268695</td>\n",
              "      <td>76.673004</td>\n",
              "      <td>71.103929</td>\n",
              "      <td>68.044360</td>\n",
              "      <td>68.490494</td>\n",
              "      <td>65.244613</td>\n",
              "      <td>103.166033</td>\n",
              "      <td>68.352345</td>\n",
              "      <td>140.068441</td>\n",
              "      <td>1.296578</td>\n",
              "      <td>54.974651</td>\n",
              "      <td>22.135615</td>\n",
              "      <td>0.886565</td>\n",
              "      <td>1.122624</td>\n",
              "      <td>1.057034</td>\n",
              "      <td>1.060837</td>\n",
              "      <td>1.026299</td>\n",
              "      <td>1.220849</td>\n",
              "      <td>1.078580</td>\n",
              "      <td>0.979404</td>\n",
              "      <td>1.050063</td>\n",
              "      <td>1.209125</td>\n",
              "      <td>1.010773</td>\n",
              "      <td>0.989544</td>\n",
              "      <td>1.265209</td>\n",
              "      <td>0.963245</td>\n",
              "      <td>0.978454</td>\n",
              "      <td>1.031369</td>\n",
              "      <td>0.979404</td>\n",
              "      <td>1.078897</td>\n",
              "    </tr>\n",
              "    <tr>\n",
              "      <th>std</th>\n",
              "      <td>266.369884</td>\n",
              "      <td>231.786865</td>\n",
              "      <td>1.928489</td>\n",
              "      <td>0.122461</td>\n",
              "      <td>0.0</td>\n",
              "      <td>0.0</td>\n",
              "      <td>0.500066</td>\n",
              "      <td>1.064746</td>\n",
              "      <td>77.846519</td>\n",
              "      <td>0.723059</td>\n",
              "      <td>107.023326</td>\n",
              "      <td>24.326330</td>\n",
              "      <td>30.570623</td>\n",
              "      <td>30.022527</td>\n",
              "      <td>29.618973</td>\n",
              "      <td>25.696668</td>\n",
              "      <td>28.000584</td>\n",
              "      <td>73.638430</td>\n",
              "      <td>12.710564</td>\n",
              "      <td>70.836986</td>\n",
              "      <td>0.457039</td>\n",
              "      <td>20.186299</td>\n",
              "      <td>13.174757</td>\n",
              "      <td>0.271821</td>\n",
              "      <td>0.726754</td>\n",
              "      <td>0.629296</td>\n",
              "      <td>0.667839</td>\n",
              "      <td>0.794885</td>\n",
              "      <td>0.763534</td>\n",
              "      <td>0.759252</td>\n",
              "      <td>0.531946</td>\n",
              "      <td>0.750548</td>\n",
              "      <td>0.593823</td>\n",
              "      <td>0.500201</td>\n",
              "      <td>0.590724</td>\n",
              "      <td>0.691402</td>\n",
              "      <td>0.525896</td>\n",
              "      <td>0.345628</td>\n",
              "      <td>0.396545</td>\n",
              "      <td>0.473576</td>\n",
              "      <td>0.522375</td>\n",
              "    </tr>\n",
              "    <tr>\n",
              "      <th>min</th>\n",
              "      <td>0.000000</td>\n",
              "      <td>1.000000</td>\n",
              "      <td>1.000000</td>\n",
              "      <td>0.000000</td>\n",
              "      <td>0.0</td>\n",
              "      <td>0.0</td>\n",
              "      <td>1.000000</td>\n",
              "      <td>0.100000</td>\n",
              "      <td>0.100000</td>\n",
              "      <td>1.000000</td>\n",
              "      <td>175.000000</td>\n",
              "      <td>10.000000</td>\n",
              "      <td>5.000000</td>\n",
              "      <td>5.000000</td>\n",
              "      <td>10.000000</td>\n",
              "      <td>20.000000</td>\n",
              "      <td>5.000000</td>\n",
              "      <td>3.000000</td>\n",
              "      <td>0.000000</td>\n",
              "      <td>36.000000</td>\n",
              "      <td>1.000000</td>\n",
              "      <td>0.000000</td>\n",
              "      <td>5.000000</td>\n",
              "      <td>0.000000</td>\n",
              "      <td>0.000000</td>\n",
              "      <td>0.000000</td>\n",
              "      <td>0.000000</td>\n",
              "      <td>0.000000</td>\n",
              "      <td>0.125000</td>\n",
              "      <td>0.000000</td>\n",
              "      <td>0.000000</td>\n",
              "      <td>0.000000</td>\n",
              "      <td>0.250000</td>\n",
              "      <td>0.000000</td>\n",
              "      <td>0.250000</td>\n",
              "      <td>0.250000</td>\n",
              "      <td>0.000000</td>\n",
              "      <td>0.000000</td>\n",
              "      <td>0.250000</td>\n",
              "      <td>0.250000</td>\n",
              "      <td>0.250000</td>\n",
              "    </tr>\n",
              "    <tr>\n",
              "      <th>25%</th>\n",
              "      <td>220.000000</td>\n",
              "      <td>180.000000</td>\n",
              "      <td>2.000000</td>\n",
              "      <td>0.000000</td>\n",
              "      <td>0.0</td>\n",
              "      <td>0.0</td>\n",
              "      <td>1.000000</td>\n",
              "      <td>0.600000</td>\n",
              "      <td>9.200000</td>\n",
              "      <td>2.000000</td>\n",
              "      <td>320.000000</td>\n",
              "      <td>50.000000</td>\n",
              "      <td>55.000000</td>\n",
              "      <td>50.000000</td>\n",
              "      <td>45.000000</td>\n",
              "      <td>50.000000</td>\n",
              "      <td>45.000000</td>\n",
              "      <td>45.000000</td>\n",
              "      <td>70.000000</td>\n",
              "      <td>65.000000</td>\n",
              "      <td>1.000000</td>\n",
              "      <td>50.000000</td>\n",
              "      <td>20.000000</td>\n",
              "      <td>1.000000</td>\n",
              "      <td>0.500000</td>\n",
              "      <td>0.500000</td>\n",
              "      <td>0.500000</td>\n",
              "      <td>0.500000</td>\n",
              "      <td>0.500000</td>\n",
              "      <td>0.500000</td>\n",
              "      <td>0.500000</td>\n",
              "      <td>0.500000</td>\n",
              "      <td>1.000000</td>\n",
              "      <td>1.000000</td>\n",
              "      <td>0.500000</td>\n",
              "      <td>1.000000</td>\n",
              "      <td>1.000000</td>\n",
              "      <td>1.000000</td>\n",
              "      <td>1.000000</td>\n",
              "      <td>0.500000</td>\n",
              "      <td>1.000000</td>\n",
              "    </tr>\n",
              "    <tr>\n",
              "      <th>50%</th>\n",
              "      <td>434.000000</td>\n",
              "      <td>367.000000</td>\n",
              "      <td>3.000000</td>\n",
              "      <td>0.000000</td>\n",
              "      <td>0.0</td>\n",
              "      <td>0.0</td>\n",
              "      <td>2.000000</td>\n",
              "      <td>1.000000</td>\n",
              "      <td>26.000000</td>\n",
              "      <td>3.000000</td>\n",
              "      <td>425.000000</td>\n",
              "      <td>65.000000</td>\n",
              "      <td>75.000000</td>\n",
              "      <td>66.000000</td>\n",
              "      <td>62.000000</td>\n",
              "      <td>65.000000</td>\n",
              "      <td>63.000000</td>\n",
              "      <td>75.000000</td>\n",
              "      <td>70.000000</td>\n",
              "      <td>149.000000</td>\n",
              "      <td>1.000000</td>\n",
              "      <td>50.000000</td>\n",
              "      <td>20.000000</td>\n",
              "      <td>1.000000</td>\n",
              "      <td>1.000000</td>\n",
              "      <td>1.000000</td>\n",
              "      <td>1.000000</td>\n",
              "      <td>1.000000</td>\n",
              "      <td>1.000000</td>\n",
              "      <td>1.000000</td>\n",
              "      <td>1.000000</td>\n",
              "      <td>1.000000</td>\n",
              "      <td>1.000000</td>\n",
              "      <td>1.000000</td>\n",
              "      <td>1.000000</td>\n",
              "      <td>1.000000</td>\n",
              "      <td>1.000000</td>\n",
              "      <td>1.000000</td>\n",
              "      <td>1.000000</td>\n",
              "      <td>1.000000</td>\n",
              "      <td>1.000000</td>\n",
              "    </tr>\n",
              "    <tr>\n",
              "      <th>75%</th>\n",
              "      <td>678.000000</td>\n",
              "      <td>580.000000</td>\n",
              "      <td>5.000000</td>\n",
              "      <td>0.000000</td>\n",
              "      <td>0.0</td>\n",
              "      <td>0.0</td>\n",
              "      <td>2.000000</td>\n",
              "      <td>1.400000</td>\n",
              "      <td>57.500000</td>\n",
              "      <td>3.000000</td>\n",
              "      <td>495.000000</td>\n",
              "      <td>79.000000</td>\n",
              "      <td>95.000000</td>\n",
              "      <td>85.000000</td>\n",
              "      <td>85.000000</td>\n",
              "      <td>85.000000</td>\n",
              "      <td>85.000000</td>\n",
              "      <td>180.000000</td>\n",
              "      <td>70.000000</td>\n",
              "      <td>175.000000</td>\n",
              "      <td>2.000000</td>\n",
              "      <td>50.000000</td>\n",
              "      <td>20.000000</td>\n",
              "      <td>1.000000</td>\n",
              "      <td>2.000000</td>\n",
              "      <td>1.000000</td>\n",
              "      <td>1.000000</td>\n",
              "      <td>1.000000</td>\n",
              "      <td>2.000000</td>\n",
              "      <td>1.500000</td>\n",
              "      <td>1.000000</td>\n",
              "      <td>1.000000</td>\n",
              "      <td>2.000000</td>\n",
              "      <td>1.000000</td>\n",
              "      <td>1.000000</td>\n",
              "      <td>2.000000</td>\n",
              "      <td>1.000000</td>\n",
              "      <td>1.000000</td>\n",
              "      <td>1.000000</td>\n",
              "      <td>1.000000</td>\n",
              "      <td>1.000000</td>\n",
              "    </tr>\n",
              "    <tr>\n",
              "      <th>max</th>\n",
              "      <td>911.000000</td>\n",
              "      <td>784.000000</td>\n",
              "      <td>7.000000</td>\n",
              "      <td>1.000000</td>\n",
              "      <td>0.0</td>\n",
              "      <td>0.0</td>\n",
              "      <td>2.000000</td>\n",
              "      <td>14.500000</td>\n",
              "      <td>920.000000</td>\n",
              "      <td>3.000000</td>\n",
              "      <td>700.000000</td>\n",
              "      <td>255.000000</td>\n",
              "      <td>185.000000</td>\n",
              "      <td>230.000000</td>\n",
              "      <td>175.000000</td>\n",
              "      <td>230.000000</td>\n",
              "      <td>160.000000</td>\n",
              "      <td>255.000000</td>\n",
              "      <td>140.000000</td>\n",
              "      <td>608.000000</td>\n",
              "      <td>2.000000</td>\n",
              "      <td>100.000000</td>\n",
              "      <td>120.000000</td>\n",
              "      <td>1.000000</td>\n",
              "      <td>4.000000</td>\n",
              "      <td>4.000000</td>\n",
              "      <td>4.000000</td>\n",
              "      <td>4.000000</td>\n",
              "      <td>4.000000</td>\n",
              "      <td>4.000000</td>\n",
              "      <td>4.000000</td>\n",
              "      <td>4.000000</td>\n",
              "      <td>4.000000</td>\n",
              "      <td>4.000000</td>\n",
              "      <td>4.000000</td>\n",
              "      <td>4.000000</td>\n",
              "      <td>2.000000</td>\n",
              "      <td>2.000000</td>\n",
              "      <td>2.000000</td>\n",
              "      <td>4.000000</td>\n",
              "      <td>4.000000</td>\n",
              "    </tr>\n",
              "  </tbody>\n",
              "</table>\n",
              "</div>"
            ],
            "text/plain": [
              "       Unnamed: 0  pokedex_number  ...  against_steel  against_fairy\n",
              "count  789.000000      789.000000  ...     789.000000     789.000000\n",
              "mean   447.950570      380.273764  ...       0.979404       1.078897\n",
              "std    266.369884      231.786865  ...       0.473576       0.522375\n",
              "min      0.000000        1.000000  ...       0.250000       0.250000\n",
              "25%    220.000000      180.000000  ...       0.500000       1.000000\n",
              "50%    434.000000      367.000000  ...       1.000000       1.000000\n",
              "75%    678.000000      580.000000  ...       1.000000       1.000000\n",
              "max    911.000000      784.000000  ...       4.000000       4.000000\n",
              "\n",
              "[8 rows x 41 columns]"
            ]
          },
          "metadata": {
            "tags": []
          },
          "execution_count": 14
        }
      ]
    },
    {
      "cell_type": "code",
      "metadata": {
        "id": "wJciGeM8FFkV",
        "colab_type": "code",
        "colab": {}
      },
      "source": [
        "data=raw_data[['egg_type_1','percentage_male', 'egg_cycles', 'growth_rate', 'type_number']]\n",
        "target = data['type_number'] \n",
        "data=data.drop(['type_number'],axis=1)\n"
      ],
      "execution_count": 17,
      "outputs": []
    },
    {
      "cell_type": "code",
      "metadata": {
        "id": "fdOTO06PFsi2",
        "colab_type": "code",
        "colab": {
          "base_uri": "https://localhost:8080/",
          "height": 206
        },
        "outputId": "eeade8b6-b4e9-4f1d-e361-d13880edef67"
      },
      "source": [
        "data.head()"
      ],
      "execution_count": 18,
      "outputs": [
        {
          "output_type": "execute_result",
          "data": {
            "text/html": [
              "<div>\n",
              "<style scoped>\n",
              "    .dataframe tbody tr th:only-of-type {\n",
              "        vertical-align: middle;\n",
              "    }\n",
              "\n",
              "    .dataframe tbody tr th {\n",
              "        vertical-align: top;\n",
              "    }\n",
              "\n",
              "    .dataframe thead th {\n",
              "        text-align: right;\n",
              "    }\n",
              "</style>\n",
              "<table border=\"1\" class=\"dataframe\">\n",
              "  <thead>\n",
              "    <tr style=\"text-align: right;\">\n",
              "      <th></th>\n",
              "      <th>egg_type_1</th>\n",
              "      <th>percentage_male</th>\n",
              "      <th>egg_cycles</th>\n",
              "      <th>growth_rate</th>\n",
              "    </tr>\n",
              "  </thead>\n",
              "  <tbody>\n",
              "    <tr>\n",
              "      <th>0</th>\n",
              "      <td>Grass</td>\n",
              "      <td>87.5</td>\n",
              "      <td>20.0</td>\n",
              "      <td>Medium Slow</td>\n",
              "    </tr>\n",
              "    <tr>\n",
              "      <th>1</th>\n",
              "      <td>Grass</td>\n",
              "      <td>87.5</td>\n",
              "      <td>20.0</td>\n",
              "      <td>Medium Slow</td>\n",
              "    </tr>\n",
              "    <tr>\n",
              "      <th>2</th>\n",
              "      <td>Grass</td>\n",
              "      <td>87.5</td>\n",
              "      <td>20.0</td>\n",
              "      <td>Medium Slow</td>\n",
              "    </tr>\n",
              "    <tr>\n",
              "      <th>3</th>\n",
              "      <td>Grass</td>\n",
              "      <td>87.5</td>\n",
              "      <td>20.0</td>\n",
              "      <td>Medium Slow</td>\n",
              "    </tr>\n",
              "    <tr>\n",
              "      <th>4</th>\n",
              "      <td>Dragon</td>\n",
              "      <td>87.5</td>\n",
              "      <td>20.0</td>\n",
              "      <td>Medium Slow</td>\n",
              "    </tr>\n",
              "  </tbody>\n",
              "</table>\n",
              "</div>"
            ],
            "text/plain": [
              "  egg_type_1  percentage_male  egg_cycles  growth_rate\n",
              "0      Grass             87.5        20.0  Medium Slow\n",
              "1      Grass             87.5        20.0  Medium Slow\n",
              "2      Grass             87.5        20.0  Medium Slow\n",
              "3      Grass             87.5        20.0  Medium Slow\n",
              "4     Dragon             87.5        20.0  Medium Slow"
            ]
          },
          "metadata": {
            "tags": []
          },
          "execution_count": 18
        }
      ]
    },
    {
      "cell_type": "code",
      "metadata": {
        "id": "fuFnG2vmjfMw",
        "colab_type": "code",
        "colab": {
          "base_uri": "https://localhost:8080/",
          "height": 73
        },
        "outputId": "431d89a6-5573-4712-d8fd-4763ebe9b0f0"
      },
      "source": [
        "target.value_counts()"
      ],
      "execution_count": 19,
      "outputs": [
        {
          "output_type": "execute_result",
          "data": {
            "text/plain": [
              "2    407\n",
              "1    382\n",
              "Name: type_number, dtype: int64"
            ]
          },
          "metadata": {
            "tags": []
          },
          "execution_count": 19
        }
      ]
    },
    {
      "cell_type": "code",
      "metadata": {
        "id": "3PQ1qBq8OmPG",
        "colab_type": "code",
        "colab": {}
      },
      "source": [
        "import plotly.express as px"
      ],
      "execution_count": null,
      "outputs": []
    },
    {
      "cell_type": "code",
      "metadata": {
        "id": "Hv09pe3vS8IO",
        "colab_type": "code",
        "colab": {}
      },
      "source": [
        "\n",
        "import matplotlib.pyplot as plt"
      ],
      "execution_count": 20,
      "outputs": []
    },
    {
      "cell_type": "code",
      "metadata": {
        "id": "oyvolW5wSxOI",
        "colab_type": "code",
        "colab": {
          "base_uri": "https://localhost:8080/",
          "height": 405
        },
        "outputId": "8987fba4-c306-4a51-d45b-718427d060bb"
      },
      "source": [
        "plt.figure(figsize=(8, 6))\n",
        "plt.scatter(data['speed'], data['sp_attack'], c=target, cmap='viridis')\n",
        "plt.title('Wykres punktowy')\n",
        "plt.xlabel('cecha_1: speed')\n",
        "plt.ylabel('cecha_2: sp_attack')\n",
        "plt.show()"
      ],
      "execution_count": null,
      "outputs": [
        {
          "output_type": "display_data",
          "data": {
            "image/png": "[encoded data removed]",
            "text/plain": [
              "<Figure size 576x432 with 1 Axes>"
            ]
          },
          "metadata": {
            "tags": [],
            "needs_background": "light"
          }
        }
      ]
    },
    {
      "cell_type": "code",
      "metadata": {
        "id": "UwezHDuNTahR",
        "colab_type": "code",
        "colab": {}
      },
      "source": [
        "from sklearn.model_selection import train_test_split\n",
        "\n",
        "X_train, X_test, y_train, y_test = train_test_split(data, target)"
      ],
      "execution_count": null,
      "outputs": []
    },
    {
      "cell_type": "code",
      "metadata": {
        "id": "B9n5J5MTT7UK",
        "colab_type": "code",
        "colab": {}
      },
      "source": [
        "from sklearn.preprocessing import StandardScaler\n",
        "\n",
        "scaler = StandardScaler()\n",
        "scaler.fit(X_train)\n",
        "\n",
        "X_train = scaler.transform(X_train)\n",
        "X_test = scaler.transform(X_test)"
      ],
      "execution_count": null,
      "outputs": []
    },
    {
      "cell_type": "code",
      "metadata": {
        "id": "Qt5d5pxzT938",
        "colab_type": "code",
        "colab": {
          "base_uri": "https://localhost:8080/",
          "height": 91
        },
        "outputId": "d995a97d-7d22-48cb-f1c0-2a6400dd0db2"
      },
      "source": [
        "from sklearn.svm import SVC\n",
        "\n",
        "classifier = SVC(C=1.0, kernel='linear')\n",
        "\n",
        "classifier.fit(X_train, y_train)"
      ],
      "execution_count": null,
      "outputs": [
        {
          "output_type": "execute_result",
          "data": {
            "text/plain": [
              "SVC(C=1.0, break_ties=False, cache_size=200, class_weight=None, coef0=0.0,\n",
              "    decision_function_shape='ovr', degree=3, gamma='scale', kernel='linear',\n",
              "    max_iter=-1, probability=False, random_state=None, shrinking=True,\n",
              "    tol=0.001, verbose=False)"
            ]
          },
          "metadata": {
            "tags": []
          },
          "execution_count": 17
        }
      ]
    },
    {
      "cell_type": "code",
      "metadata": {
        "id": "wtlFTiXmVrTb",
        "colab_type": "code",
        "colab": {
          "base_uri": "https://localhost:8080/",
          "height": 35
        },
        "outputId": "462f1739-faff-4ef9-ef76-5dfe448f9cc8"
      },
      "source": [
        "classifier.score(X_test, y_test)"
      ],
      "execution_count": null,
      "outputs": [
        {
          "output_type": "execute_result",
          "data": {
            "text/plain": [
              "0.4980544747081712"
            ]
          },
          "metadata": {
            "tags": []
          },
          "execution_count": 18
        }
      ]
    },
    {
      "cell_type": "code",
      "metadata": {
        "id": "XToxj1cDVtyb",
        "colab_type": "code",
        "colab": {
          "base_uri": "https://localhost:8080/",
          "height": 35
        },
        "outputId": "a78cee89-bc95-4517-f6c6-f19894965158"
      },
      "source": [
        "classifier = SVC(C=1.0, kernel='rbf')\n",
        "\n",
        "classifier.fit(X_train, y_train)\n",
        "classifier.score(X_test, y_test)"
      ],
      "execution_count": null,
      "outputs": [
        {
          "output_type": "execute_result",
          "data": {
            "text/plain": [
              "0.5486381322957199"
            ]
          },
          "metadata": {
            "tags": []
          },
          "execution_count": 19
        }
      ]
    },
    {
      "cell_type": "code",
      "metadata": {
        "id": "WEDopft_XjVV",
        "colab_type": "code",
        "colab": {
          "base_uri": "https://localhost:8080/",
          "height": 129
        },
        "outputId": "b09abe0a-ba00-4463-fc57-bad1aa9fd7a9"
      },
      "source": [
        "from sklearn.tree import DecisionTreeClassifier\n",
        "\n",
        "classifier = DecisionTreeClassifier(max_depth=1, random_state=42)\n",
        "classifier.fit(data, target)"
      ],
      "execution_count": null,
      "outputs": [
        {
          "output_type": "execute_result",
          "data": {
            "text/plain": [
              "DecisionTreeClassifier(ccp_alpha=0.0, class_weight=None, criterion='gini',\n",
              "                       max_depth=1, max_features=None, max_leaf_nodes=None,\n",
              "                       min_impurity_decrease=0.0, min_impurity_split=None,\n",
              "                       min_samples_leaf=1, min_samples_split=2,\n",
              "                       min_weight_fraction_leaf=0.0, presort='deprecated',\n",
              "                       random_state=42, splitter='best')"
            ]
          },
          "metadata": {
            "tags": []
          },
          "execution_count": 20
        }
      ]
    },
    {
      "cell_type": "code",
      "metadata": {
        "id": "tAduJbKsYIzR",
        "colab_type": "code",
        "colab": {
          "base_uri": "https://localhost:8080/",
          "height": 74
        },
        "outputId": "c9f26672-3809-46e4-d22f-5951087ceefc"
      },
      "source": [
        "from sklearn.externals.six import StringIO\n",
        "from sklearn.tree import export_graphviz\n",
        "import pydotplus"
      ],
      "execution_count": null,
      "outputs": [
        {
          "output_type": "stream",
          "text": [
            "/usr/local/lib/python3.6/dist-packages/sklearn/externals/six.py:31: FutureWarning: The module is deprecated in version 0.21 and will be removed in version 0.23 since we've dropped support for Python 2.7. Please rely on the official version of six (https://pypi.org/project/six/).\n",
            "  \"(https://pypi.org/project/six/).\", FutureWarning)\n"
          ],
          "name": "stderr"
        }
      ]
    },
    {
      "cell_type": "code",
      "metadata": {
        "id": "y3n7GStOYRc9",
        "colab_type": "code",
        "colab": {}
      },
      "source": [
        "def make_decision_tree(max_depth=1):\n",
        "    # trenowanie modelu\n",
        "    classifier = DecisionTreeClassifier(max_depth=max_depth, random_state=42)\n",
        "    classifier.fit(data, target)\n",
        "\n",
        "    # eksport grafu drzewa\n",
        "    dot_data = StringIO()\n",
        "    export_graphviz(classifier,\n",
        "                   out_file=dot_data,\n",
        "                   \n",
        "                   \n",
        "                   special_characters=True,\n",
        "                   rounded=True,\n",
        "                   filled=True)\n",
        "    graph = pydotplus.graph_from_dot_data(dot_data.getvalue())\n",
        "    graph.write_png('graph.png')\n",
        "    \n",
        "    # obliczenie dokładności\n",
        "    acc = classifier.score(data, target) \n",
        "\n",
        "    # wykreślenie granic decyzyjnych\n",
        "    colors='#f1865b,#31c30f,#64647F,#d62728,#9467bd,#8c564b,#e377c2,#7f7f7f,#bcbd22,#17becf'\n",
        "    plt.figure(figsize=(8, 6))\n",
        "    ax = plot_decision_regions(data, target, classifier, legend=0, colors=colors)\n",
        "    handles, labels = ax.get_legend_handles_labels()\n",
        "    ax.legend(handles, ['setosa', 'versicolor', 'virginica'], framealpha=0.3)\n",
        "    plt.xlabel('speed (cm)')\n",
        "    plt.ylabel('sp_attack (cm)')\n",
        "    plt.title(f'Drzewo decyzyjne: max_depth={max_depth}, accuracy={acc * 100:.2f}')\n",
        "    \n",
        "    return Image(graph.create_png(), width=200 + max_depth * 120)"
      ],
      "execution_count": null,
      "outputs": []
    },
    {
      "cell_type": "code",
      "metadata": {
        "id": "0Lx7hrowaR9D",
        "colab_type": "code",
        "colab": {}
      },
      "source": [
        "from io import StringIO"
      ],
      "execution_count": null,
      "outputs": []
    },
    {
      "cell_type": "code",
      "metadata": {
        "id": "tDSikLJFZ4UG",
        "colab_type": "code",
        "colab": {
          "base_uri": "https://localhost:8080/",
          "height": 347
        },
        "outputId": "5d132b57-3901-4d33-bf4b-997153619e3f"
      },
      "source": [
        "make_decision_tree(max_depth=2)"
      ],
      "execution_count": null,
      "outputs": [
        {
          "output_type": "error",
          "ename": "ValueError",
          "evalue": "ignored",
          "traceback": [
            "\u001b[0;31m---------------------------------------------------------------------------\u001b[0m",
            "\u001b[0;31mValueError\u001b[0m                                Traceback (most recent call last)",
            "\u001b[0;32m<ipython-input-37-4f1f656dde40>\u001b[0m in \u001b[0;36m<module>\u001b[0;34m()\u001b[0m\n\u001b[0;32m----> 1\u001b[0;31m \u001b[0mmake_decision_tree\u001b[0m\u001b[0;34m(\u001b[0m\u001b[0mmax_depth\u001b[0m\u001b[0;34m=\u001b[0m\u001b[0;36m2\u001b[0m\u001b[0;34m)\u001b[0m\u001b[0;34m\u001b[0m\u001b[0;34m\u001b[0m\u001b[0m\n\u001b[0m",
            "\u001b[0;32m<ipython-input-36-4b9fb95cefce>\u001b[0m in \u001b[0;36mmake_decision_tree\u001b[0;34m(max_depth)\u001b[0m\n\u001b[1;32m     22\u001b[0m     \u001b[0mcolors\u001b[0m\u001b[0;34m=\u001b[0m\u001b[0;34m'#f1865b,#31c30f,#64647F,#d62728,#9467bd,#8c564b,#e377c2,#7f7f7f,#bcbd22,#17becf'\u001b[0m\u001b[0;34m\u001b[0m\u001b[0;34m\u001b[0m\u001b[0m\n\u001b[1;32m     23\u001b[0m     \u001b[0mplt\u001b[0m\u001b[0;34m.\u001b[0m\u001b[0mfigure\u001b[0m\u001b[0;34m(\u001b[0m\u001b[0mfigsize\u001b[0m\u001b[0;34m=\u001b[0m\u001b[0;34m(\u001b[0m\u001b[0;36m8\u001b[0m\u001b[0;34m,\u001b[0m \u001b[0;36m6\u001b[0m\u001b[0;34m)\u001b[0m\u001b[0;34m)\u001b[0m\u001b[0;34m\u001b[0m\u001b[0;34m\u001b[0m\u001b[0m\n\u001b[0;32m---> 24\u001b[0;31m     \u001b[0max\u001b[0m \u001b[0;34m=\u001b[0m \u001b[0mplot_decision_regions\u001b[0m\u001b[0;34m(\u001b[0m\u001b[0mdata\u001b[0m\u001b[0;34m,\u001b[0m \u001b[0mtarget\u001b[0m\u001b[0;34m,\u001b[0m \u001b[0mclassifier\u001b[0m\u001b[0;34m,\u001b[0m \u001b[0mlegend\u001b[0m\u001b[0;34m=\u001b[0m\u001b[0;36m0\u001b[0m\u001b[0;34m,\u001b[0m \u001b[0mcolors\u001b[0m\u001b[0;34m=\u001b[0m\u001b[0mcolors\u001b[0m\u001b[0;34m)\u001b[0m\u001b[0;34m\u001b[0m\u001b[0;34m\u001b[0m\u001b[0m\n\u001b[0m\u001b[1;32m     25\u001b[0m     \u001b[0mhandles\u001b[0m\u001b[0;34m,\u001b[0m \u001b[0mlabels\u001b[0m \u001b[0;34m=\u001b[0m \u001b[0max\u001b[0m\u001b[0;34m.\u001b[0m\u001b[0mget_legend_handles_labels\u001b[0m\u001b[0;34m(\u001b[0m\u001b[0;34m)\u001b[0m\u001b[0;34m\u001b[0m\u001b[0;34m\u001b[0m\u001b[0m\n\u001b[1;32m     26\u001b[0m     \u001b[0max\u001b[0m\u001b[0;34m.\u001b[0m\u001b[0mlegend\u001b[0m\u001b[0;34m(\u001b[0m\u001b[0mhandles\u001b[0m\u001b[0;34m,\u001b[0m \u001b[0;34m[\u001b[0m\u001b[0;34m'setosa'\u001b[0m\u001b[0;34m,\u001b[0m \u001b[0;34m'versicolor'\u001b[0m\u001b[0;34m,\u001b[0m \u001b[0;34m'virginica'\u001b[0m\u001b[0;34m]\u001b[0m\u001b[0;34m,\u001b[0m \u001b[0mframealpha\u001b[0m\u001b[0;34m=\u001b[0m\u001b[0;36m0.3\u001b[0m\u001b[0;34m)\u001b[0m\u001b[0;34m\u001b[0m\u001b[0;34m\u001b[0m\u001b[0m\n",
            "\u001b[0;32m/usr/local/lib/python3.6/dist-packages/mlxtend/plotting/decision_regions.py\u001b[0m in \u001b[0;36mplot_decision_regions\u001b[0;34m(X, y, clf, feature_index, filler_feature_values, filler_feature_ranges, ax, X_highlight, res, legend, hide_spines, markers, colors, scatter_kwargs, contourf_kwargs, scatter_highlight_kwargs)\u001b[0m\n\u001b[1;32m    127\u001b[0m     \"\"\"\n\u001b[1;32m    128\u001b[0m \u001b[0;34m\u001b[0m\u001b[0m\n\u001b[0;32m--> 129\u001b[0;31m     \u001b[0mcheck_Xy\u001b[0m\u001b[0;34m(\u001b[0m\u001b[0mX\u001b[0m\u001b[0;34m,\u001b[0m \u001b[0my\u001b[0m\u001b[0;34m,\u001b[0m \u001b[0my_int\u001b[0m\u001b[0;34m=\u001b[0m\u001b[0;32mTrue\u001b[0m\u001b[0;34m)\u001b[0m  \u001b[0;31m# Validate X and y arrays\u001b[0m\u001b[0;34m\u001b[0m\u001b[0;34m\u001b[0m\u001b[0m\n\u001b[0m\u001b[1;32m    130\u001b[0m     \u001b[0mdim\u001b[0m \u001b[0;34m=\u001b[0m \u001b[0mX\u001b[0m\u001b[0;34m.\u001b[0m\u001b[0mshape\u001b[0m\u001b[0;34m[\u001b[0m\u001b[0;36m1\u001b[0m\u001b[0;34m]\u001b[0m\u001b[0;34m\u001b[0m\u001b[0;34m\u001b[0m\u001b[0m\n\u001b[1;32m    131\u001b[0m \u001b[0;34m\u001b[0m\u001b[0m\n",
            "\u001b[0;32m/usr/local/lib/python3.6/dist-packages/mlxtend/utils/checking.py\u001b[0m in \u001b[0;36mcheck_Xy\u001b[0;34m(X, y, y_int)\u001b[0m\n\u001b[1;32m     14\u001b[0m     \u001b[0;31m# check types\u001b[0m\u001b[0;34m\u001b[0m\u001b[0;34m\u001b[0m\u001b[0;34m\u001b[0m\u001b[0m\n\u001b[1;32m     15\u001b[0m     \u001b[0;32mif\u001b[0m \u001b[0;32mnot\u001b[0m \u001b[0misinstance\u001b[0m\u001b[0;34m(\u001b[0m\u001b[0mX\u001b[0m\u001b[0;34m,\u001b[0m \u001b[0mnp\u001b[0m\u001b[0;34m.\u001b[0m\u001b[0mndarray\u001b[0m\u001b[0;34m)\u001b[0m\u001b[0;34m:\u001b[0m\u001b[0;34m\u001b[0m\u001b[0;34m\u001b[0m\u001b[0m\n\u001b[0;32m---> 16\u001b[0;31m         \u001b[0;32mraise\u001b[0m \u001b[0mValueError\u001b[0m\u001b[0;34m(\u001b[0m\u001b[0;34m'X must be a NumPy array. Found %s'\u001b[0m \u001b[0;34m%\u001b[0m \u001b[0mtype\u001b[0m\u001b[0;34m(\u001b[0m\u001b[0mX\u001b[0m\u001b[0;34m)\u001b[0m\u001b[0;34m)\u001b[0m\u001b[0;34m\u001b[0m\u001b[0;34m\u001b[0m\u001b[0m\n\u001b[0m\u001b[1;32m     17\u001b[0m     \u001b[0;32mif\u001b[0m \u001b[0;32mnot\u001b[0m \u001b[0misinstance\u001b[0m\u001b[0;34m(\u001b[0m\u001b[0my\u001b[0m\u001b[0;34m,\u001b[0m \u001b[0mnp\u001b[0m\u001b[0;34m.\u001b[0m\u001b[0mndarray\u001b[0m\u001b[0;34m)\u001b[0m\u001b[0;34m:\u001b[0m\u001b[0;34m\u001b[0m\u001b[0;34m\u001b[0m\u001b[0m\n\u001b[1;32m     18\u001b[0m         \u001b[0;32mraise\u001b[0m \u001b[0mValueError\u001b[0m\u001b[0;34m(\u001b[0m\u001b[0;34m'y must be a NumPy array. Found %s'\u001b[0m \u001b[0;34m%\u001b[0m \u001b[0mtype\u001b[0m\u001b[0;34m(\u001b[0m\u001b[0my\u001b[0m\u001b[0;34m)\u001b[0m\u001b[0;34m)\u001b[0m\u001b[0;34m\u001b[0m\u001b[0;34m\u001b[0m\u001b[0m\n",
            "\u001b[0;31mValueError\u001b[0m: X must be a NumPy array. Found <class 'pandas.core.frame.DataFrame'>"
          ]
        },
        {
          "output_type": "display_data",
          "data": {
            "text/plain": [
              "<Figure size 576x432 with 0 Axes>"
            ]
          },
          "metadata": {
            "tags": []
          }
        }
      ]
    },
    {
      "cell_type": "code",
      "metadata": {
        "id": "SB8Uoprsco62",
        "colab_type": "code",
        "colab": {}
      },
      "source": [
        ""
      ],
      "execution_count": null,
      "outputs": []
    },
    {
      "cell_type": "markdown",
      "metadata": {
        "id": "6gWVN6BydVXr",
        "colab_type": "text"
      },
      "source": [
        ""
      ]
    },
    {
      "cell_type": "code",
      "metadata": {
        "id": "wRzwryFecnJZ",
        "colab_type": "code",
        "colab": {
          "base_uri": "https://localhost:8080/",
          "height": 166
        },
        "outputId": "396b49d1-c390-45f1-87dd-fc52268ac0c6"
      },
      "source": [
        "from sklearn.ensemble import RandomForestClassifier\n",
        "\n",
        "classifier = RandomForestClassifier(n_estimators=100, random_state=42)\n",
        "\n",
        "classifier.fit(data, target)"
      ],
      "execution_count": null,
      "outputs": [
        {
          "output_type": "execute_result",
          "data": {
            "text/plain": [
              "RandomForestClassifier(bootstrap=True, ccp_alpha=0.0, class_weight=None,\n",
              "                       criterion='gini', max_depth=None, max_features='auto',\n",
              "                       max_leaf_nodes=None, max_samples=None,\n",
              "                       min_impurity_decrease=0.0, min_impurity_split=None,\n",
              "                       min_samples_leaf=1, min_samples_split=2,\n",
              "                       min_weight_fraction_leaf=0.0, n_estimators=100,\n",
              "                       n_jobs=None, oob_score=False, random_state=42, verbose=0,\n",
              "                       warm_start=False)"
            ]
          },
          "metadata": {
            "tags": []
          },
          "execution_count": 41
        }
      ]
    },
    {
      "cell_type": "code",
      "metadata": {
        "id": "ctwcPEk8c7eC",
        "colab_type": "code",
        "colab": {
          "base_uri": "https://localhost:8080/",
          "height": 36
        },
        "outputId": "dcfe1928-bd3e-4c72-ea20-f2f4177ec8b9"
      },
      "source": [
        "classifier.score(data, target)"
      ],
      "execution_count": null,
      "outputs": [
        {
          "output_type": "execute_result",
          "data": {
            "text/plain": [
              "0.8773125608568647"
            ]
          },
          "metadata": {
            "tags": []
          },
          "execution_count": 42
        }
      ]
    },
    {
      "cell_type": "code",
      "metadata": {
        "id": "z-bN5iZwc_fZ",
        "colab_type": "code",
        "colab": {
          "base_uri": "https://localhost:8080/",
          "height": 422
        },
        "outputId": "21e81a16-2ac3-46ff-8755-c1490c5027b7"
      },
      "source": [
        "from mlxtend.plotting import plot_decision_regions\n",
        "\n",
        "plt.figure(figsize=(8, 6))\n",
        "plot_decision_regions(data, target, classifier)\n",
        "plt.xlabel('speed')\n",
        "plt.ylabel('sp_attack')\n",
        "plt.title('Las Losowy n_estimators=100')\n",
        "plt.show()"
      ],
      "execution_count": null,
      "outputs": [
        {
          "output_type": "error",
          "ename": "ValueError",
          "evalue": "ignored",
          "traceback": [
            "\u001b[0;31m---------------------------------------------------------------------------\u001b[0m",
            "\u001b[0;31mValueError\u001b[0m                                Traceback (most recent call last)",
            "\u001b[0;32m<ipython-input-43-67aa0328ef24>\u001b[0m in \u001b[0;36m<module>\u001b[0;34m()\u001b[0m\n\u001b[1;32m      2\u001b[0m \u001b[0;34m\u001b[0m\u001b[0m\n\u001b[1;32m      3\u001b[0m \u001b[0mplt\u001b[0m\u001b[0;34m.\u001b[0m\u001b[0mfigure\u001b[0m\u001b[0;34m(\u001b[0m\u001b[0mfigsize\u001b[0m\u001b[0;34m=\u001b[0m\u001b[0;34m(\u001b[0m\u001b[0;36m8\u001b[0m\u001b[0;34m,\u001b[0m \u001b[0;36m6\u001b[0m\u001b[0;34m)\u001b[0m\u001b[0;34m)\u001b[0m\u001b[0;34m\u001b[0m\u001b[0;34m\u001b[0m\u001b[0m\n\u001b[0;32m----> 4\u001b[0;31m \u001b[0mplot_decision_regions\u001b[0m\u001b[0;34m(\u001b[0m\u001b[0mdata\u001b[0m\u001b[0;34m,\u001b[0m \u001b[0mtarget\u001b[0m\u001b[0;34m,\u001b[0m \u001b[0mclassifier\u001b[0m\u001b[0;34m)\u001b[0m\u001b[0;34m\u001b[0m\u001b[0;34m\u001b[0m\u001b[0m\n\u001b[0m\u001b[1;32m      5\u001b[0m \u001b[0mplt\u001b[0m\u001b[0;34m.\u001b[0m\u001b[0mxlabel\u001b[0m\u001b[0;34m(\u001b[0m\u001b[0;34m'speed'\u001b[0m\u001b[0;34m)\u001b[0m\u001b[0;34m\u001b[0m\u001b[0;34m\u001b[0m\u001b[0m\n\u001b[1;32m      6\u001b[0m \u001b[0mplt\u001b[0m\u001b[0;34m.\u001b[0m\u001b[0mylabel\u001b[0m\u001b[0;34m(\u001b[0m\u001b[0;34m'sp_attack'\u001b[0m\u001b[0;34m)\u001b[0m\u001b[0;34m\u001b[0m\u001b[0;34m\u001b[0m\u001b[0m\n",
            "\u001b[0;32m/usr/local/lib/python3.6/dist-packages/mlxtend/plotting/decision_regions.py\u001b[0m in \u001b[0;36mplot_decision_regions\u001b[0;34m(X, y, clf, feature_index, filler_feature_values, filler_feature_ranges, ax, X_highlight, res, legend, hide_spines, markers, colors, scatter_kwargs, contourf_kwargs, scatter_highlight_kwargs)\u001b[0m\n\u001b[1;32m    127\u001b[0m     \"\"\"\n\u001b[1;32m    128\u001b[0m \u001b[0;34m\u001b[0m\u001b[0m\n\u001b[0;32m--> 129\u001b[0;31m     \u001b[0mcheck_Xy\u001b[0m\u001b[0;34m(\u001b[0m\u001b[0mX\u001b[0m\u001b[0;34m,\u001b[0m \u001b[0my\u001b[0m\u001b[0;34m,\u001b[0m \u001b[0my_int\u001b[0m\u001b[0;34m=\u001b[0m\u001b[0;32mTrue\u001b[0m\u001b[0;34m)\u001b[0m  \u001b[0;31m# Validate X and y arrays\u001b[0m\u001b[0;34m\u001b[0m\u001b[0;34m\u001b[0m\u001b[0m\n\u001b[0m\u001b[1;32m    130\u001b[0m     \u001b[0mdim\u001b[0m \u001b[0;34m=\u001b[0m \u001b[0mX\u001b[0m\u001b[0;34m.\u001b[0m\u001b[0mshape\u001b[0m\u001b[0;34m[\u001b[0m\u001b[0;36m1\u001b[0m\u001b[0;34m]\u001b[0m\u001b[0;34m\u001b[0m\u001b[0;34m\u001b[0m\u001b[0m\n\u001b[1;32m    131\u001b[0m \u001b[0;34m\u001b[0m\u001b[0m\n",
            "\u001b[0;32m/usr/local/lib/python3.6/dist-packages/mlxtend/utils/checking.py\u001b[0m in \u001b[0;36mcheck_Xy\u001b[0;34m(X, y, y_int)\u001b[0m\n\u001b[1;32m     14\u001b[0m     \u001b[0;31m# check types\u001b[0m\u001b[0;34m\u001b[0m\u001b[0;34m\u001b[0m\u001b[0;34m\u001b[0m\u001b[0m\n\u001b[1;32m     15\u001b[0m     \u001b[0;32mif\u001b[0m \u001b[0;32mnot\u001b[0m \u001b[0misinstance\u001b[0m\u001b[0;34m(\u001b[0m\u001b[0mX\u001b[0m\u001b[0;34m,\u001b[0m \u001b[0mnp\u001b[0m\u001b[0;34m.\u001b[0m\u001b[0mndarray\u001b[0m\u001b[0;34m)\u001b[0m\u001b[0;34m:\u001b[0m\u001b[0;34m\u001b[0m\u001b[0;34m\u001b[0m\u001b[0m\n\u001b[0;32m---> 16\u001b[0;31m         \u001b[0;32mraise\u001b[0m \u001b[0mValueError\u001b[0m\u001b[0;34m(\u001b[0m\u001b[0;34m'X must be a NumPy array. Found %s'\u001b[0m \u001b[0;34m%\u001b[0m \u001b[0mtype\u001b[0m\u001b[0;34m(\u001b[0m\u001b[0mX\u001b[0m\u001b[0;34m)\u001b[0m\u001b[0;34m)\u001b[0m\u001b[0;34m\u001b[0m\u001b[0;34m\u001b[0m\u001b[0m\n\u001b[0m\u001b[1;32m     17\u001b[0m     \u001b[0;32mif\u001b[0m \u001b[0;32mnot\u001b[0m \u001b[0misinstance\u001b[0m\u001b[0;34m(\u001b[0m\u001b[0my\u001b[0m\u001b[0;34m,\u001b[0m \u001b[0mnp\u001b[0m\u001b[0;34m.\u001b[0m\u001b[0mndarray\u001b[0m\u001b[0;34m)\u001b[0m\u001b[0;34m:\u001b[0m\u001b[0;34m\u001b[0m\u001b[0;34m\u001b[0m\u001b[0m\n\u001b[1;32m     18\u001b[0m         \u001b[0;32mraise\u001b[0m \u001b[0mValueError\u001b[0m\u001b[0;34m(\u001b[0m\u001b[0;34m'y must be a NumPy array. Found %s'\u001b[0m \u001b[0;34m%\u001b[0m \u001b[0mtype\u001b[0m\u001b[0;34m(\u001b[0m\u001b[0my\u001b[0m\u001b[0;34m)\u001b[0m\u001b[0;34m)\u001b[0m\u001b[0;34m\u001b[0m\u001b[0;34m\u001b[0m\u001b[0m\n",
            "\u001b[0;31mValueError\u001b[0m: X must be a NumPy array. Found <class 'pandas.core.frame.DataFrame'>"
          ]
        },
        {
          "output_type": "display_data",
          "data": {
            "text/plain": [
              "<Figure size 576x432 with 0 Axes>"
            ]
          },
          "metadata": {
            "tags": []
          }
        }
      ]
    },
    {
      "cell_type": "code",
      "metadata": {
        "id": "5W34uxh1de9B",
        "colab_type": "code",
        "colab": {
          "base_uri": "https://localhost:8080/",
          "height": 166
        },
        "outputId": "5a0afff3-2a99-433e-b78d-a6971803f673"
      },
      "source": [
        "classifier = RandomForestClassifier(n_estimators=100, random_state=42)\n",
        "classifier.fit(X_train, y_train)"
      ],
      "execution_count": null,
      "outputs": [
        {
          "output_type": "execute_result",
          "data": {
            "text/plain": [
              "RandomForestClassifier(bootstrap=True, ccp_alpha=0.0, class_weight=None,\n",
              "                       criterion='gini', max_depth=None, max_features='auto',\n",
              "                       max_leaf_nodes=None, max_samples=None,\n",
              "                       min_impurity_decrease=0.0, min_impurity_split=None,\n",
              "                       min_samples_leaf=1, min_samples_split=2,\n",
              "                       min_weight_fraction_leaf=0.0, n_estimators=100,\n",
              "                       n_jobs=None, oob_score=False, random_state=42, verbose=0,\n",
              "                       warm_start=False)"
            ]
          },
          "metadata": {
            "tags": []
          },
          "execution_count": 44
        }
      ]
    },
    {
      "cell_type": "code",
      "metadata": {
        "id": "PsY10LINdgd9",
        "colab_type": "code",
        "colab": {
          "base_uri": "https://localhost:8080/",
          "height": 36
        },
        "outputId": "238a2576-227b-4275-cbda-43f4efff5619"
      },
      "source": [
        "\n",
        "\n",
        "from sklearn.metrics import accuracy_score\n",
        "\n",
        "y_pred = classifier.predict(X_test)\n",
        "\n",
        "accuracy_score(y_test, y_pred)\n",
        "\n"
      ],
      "execution_count": null,
      "outputs": [
        {
          "output_type": "execute_result",
          "data": {
            "text/plain": [
              "0.5369649805447471"
            ]
          },
          "metadata": {
            "tags": []
          },
          "execution_count": 45
        }
      ]
    },
    {
      "cell_type": "code",
      "metadata": {
        "id": "9EPPOjz8djs5",
        "colab_type": "code",
        "colab": {
          "base_uri": "https://localhost:8080/",
          "height": 36
        },
        "outputId": "85b3f4b3-19f6-43fb-b207-523d47a1290c"
      },
      "source": [
        "classifier.feature_importances_"
      ],
      "execution_count": null,
      "outputs": [
        {
          "output_type": "execute_result",
          "data": {
            "text/plain": [
              "array([0.5321369, 0.4678631])"
            ]
          },
          "metadata": {
            "tags": []
          },
          "execution_count": 46
        }
      ]
    },
    {
      "cell_type": "code",
      "metadata": {
        "id": "yrgGGCz-m0o6",
        "colab_type": "code",
        "colab": {}
      },
      "source": [
        ""
      ],
      "execution_count": null,
      "outputs": []
    }
  ]
}